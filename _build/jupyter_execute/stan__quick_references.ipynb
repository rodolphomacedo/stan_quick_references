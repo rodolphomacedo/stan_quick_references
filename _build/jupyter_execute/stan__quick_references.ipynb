{
 "cells": [
  {
   "cell_type": "markdown",
   "id": "134ca9bb",
   "metadata": {},
   "source": [
    "$\\mathcal{P}$"
   ]
  },
  {
   "cell_type": "code",
   "execution_count": 1,
   "id": "4348e004",
   "metadata": {},
   "outputs": [],
   "source": [
    "import pandas as pd\n",
    "import numpy as np\n",
    "import matplotlib.pyplot as plt\n",
    "import stan\n",
    "\n",
    "from scipy import stats\n",
    "\n",
    "plt.style.use('seaborn-darkgrid')"
   ]
  },
  {
   "cell_type": "code",
   "execution_count": 2,
   "id": "b6dbc0db",
   "metadata": {},
   "outputs": [],
   "source": [
    "# Rodar esse comando antes de import a stan (pystan versão 3.x)\n",
    "import nest_asyncio\n",
    "nest_asyncio.apply()"
   ]
  },
  {
   "cell_type": "code",
   "execution_count": 3,
   "id": "06b3c416",
   "metadata": {},
   "outputs": [],
   "source": [
    "# Data generating data\n",
    "mu = 70\n",
    "sigma = 100\n",
    "\n",
    "data1 = stats.norm(mu, sigma).rvs(1000)"
   ]
  },
  {
   "cell_type": "code",
   "execution_count": 4,
   "id": "1402aef7",
   "metadata": {
    "tags": [
     "remove-output"
    ]
   },
   "outputs": [
    {
     "name": "stderr",
     "output_type": "stream",
     "text": [
      "\u001b[32mBuilding:\u001b[0m found in cache, done.\n"
     ]
    },
    {
     "name": "stderr",
     "output_type": "stream",
     "text": [
      "\u001b[36mMessages from \u001b[0m\u001b[36;1mstanc\u001b[0m\u001b[36m:\u001b[0m\n"
     ]
    },
    {
     "name": "stderr",
     "output_type": "stream",
     "text": [
      "Warning in '/tmp/httpstan_xqnjfb7o/model_czxgibzg.stan', line 15, column 20: Argument 60 suggests there may be parameters that are not unit scale; consider rescaling with a multiplier (see manual section 22.12).\n"
     ]
    },
    {
     "name": "stderr",
     "output_type": "stream",
     "text": [
      "\u001b[36mSampling:\u001b[0m   0%\n"
     ]
    },
    {
     "name": "stderr",
     "output_type": "stream",
     "text": [
      "\u001b[1A"
     ]
    },
    {
     "name": "stderr",
     "output_type": "stream",
     "text": [
      "\u001b[0J"
     ]
    },
    {
     "name": "stderr",
     "output_type": "stream",
     "text": [
      "\u001b[36mSampling:\u001b[0m  25% (2000/8000)\n"
     ]
    },
    {
     "name": "stderr",
     "output_type": "stream",
     "text": [
      "\u001b[1A"
     ]
    },
    {
     "name": "stderr",
     "output_type": "stream",
     "text": [
      "\u001b[0J"
     ]
    },
    {
     "name": "stderr",
     "output_type": "stream",
     "text": [
      "\u001b[36mSampling:\u001b[0m  50% (4000/8000)\n"
     ]
    },
    {
     "name": "stderr",
     "output_type": "stream",
     "text": [
      "\u001b[1A"
     ]
    },
    {
     "name": "stderr",
     "output_type": "stream",
     "text": [
      "\u001b[0J"
     ]
    },
    {
     "name": "stderr",
     "output_type": "stream",
     "text": [
      "\u001b[36mSampling:\u001b[0m  75% (6000/8000)\n"
     ]
    },
    {
     "name": "stderr",
     "output_type": "stream",
     "text": [
      "\u001b[1A"
     ]
    },
    {
     "name": "stderr",
     "output_type": "stream",
     "text": [
      "\u001b[0J"
     ]
    },
    {
     "name": "stderr",
     "output_type": "stream",
     "text": [
      "\u001b[36mSampling:\u001b[0m 100% (8000/8000)\n"
     ]
    },
    {
     "name": "stderr",
     "output_type": "stream",
     "text": [
      "\u001b[1A"
     ]
    },
    {
     "name": "stderr",
     "output_type": "stream",
     "text": [
      "\u001b[0J"
     ]
    },
    {
     "name": "stderr",
     "output_type": "stream",
     "text": [
      "\u001b[32mSampling:\u001b[0m 100% (8000/8000), done.\n"
     ]
    },
    {
     "name": "stderr",
     "output_type": "stream",
     "text": [
      "\u001b[36mMessages received during sampling:\u001b[0m\n"
     ]
    },
    {
     "name": "stderr",
     "output_type": "stream",
     "text": [
      "  Gradient evaluation took 2.9e-05 seconds\n"
     ]
    },
    {
     "name": "stderr",
     "output_type": "stream",
     "text": [
      "  1000 transitions using 10 leapfrog steps per transition would take 0.29 seconds.\n"
     ]
    },
    {
     "name": "stderr",
     "output_type": "stream",
     "text": [
      "  Adjust your expectations accordingly!\n"
     ]
    },
    {
     "name": "stderr",
     "output_type": "stream",
     "text": [
      "  Gradient evaluation took 1.5e-05 seconds\n"
     ]
    },
    {
     "name": "stderr",
     "output_type": "stream",
     "text": [
      "  1000 transitions using 10 leapfrog steps per transition would take 0.15 seconds.\n"
     ]
    },
    {
     "name": "stderr",
     "output_type": "stream",
     "text": [
      "  Adjust your expectations accordingly!\n"
     ]
    },
    {
     "name": "stderr",
     "output_type": "stream",
     "text": [
      "  Gradient evaluation took 3.7e-05 seconds\n"
     ]
    },
    {
     "name": "stderr",
     "output_type": "stream",
     "text": [
      "  1000 transitions using 10 leapfrog steps per transition would take 0.37 seconds.\n"
     ]
    },
    {
     "name": "stderr",
     "output_type": "stream",
     "text": [
      "  Adjust your expectations accordingly!\n"
     ]
    },
    {
     "name": "stderr",
     "output_type": "stream",
     "text": [
      "  Gradient evaluation took 3.2e-05 seconds\n"
     ]
    },
    {
     "name": "stderr",
     "output_type": "stream",
     "text": [
      "  1000 transitions using 10 leapfrog steps per transition would take 0.32 seconds.\n"
     ]
    },
    {
     "name": "stderr",
     "output_type": "stream",
     "text": [
      "  Adjust your expectations accordingly!\n"
     ]
    }
   ],
   "source": [
    "# Essa estrutura está definida na página 77 - SR2\n",
    "\n",
    "model_data1 = \"\"\" \n",
    "    // Dado é a variável que foi medida!\n",
    "    data {   \n",
    "        int N;\n",
    "        real y[N];\n",
    "    }\n",
    "    \n",
    "    // Parâmetro é a váriável não observada.\n",
    "    parameters {  \n",
    "        real mu;\n",
    "        real<lower=0> sigma;\n",
    "    }\n",
    "    \n",
    "    model {\n",
    "        mu ~ normal(60, 10);\n",
    "        sigma ~ exponential(1);\n",
    "        \n",
    "        y ~ normal(mu, sigma);\n",
    "    }\n",
    "\"\"\"\n",
    "\n",
    "stan_data1 = {\n",
    "    'N': len(data1),\n",
    "    'y': data1,\n",
    "}\n",
    "\n",
    "posteriori = stan.build(model_data1, data=stan_data1)\n",
    "results_data1 = posteriori.sample(num_chains=4, num_samples=1000)"
   ]
  },
  {
   "cell_type": "code",
   "execution_count": 5,
   "id": "2d10c32f",
   "metadata": {},
   "outputs": [
    {
     "name": "stdout",
     "output_type": "stream",
     "text": [
      "Inference of mu:  69.34694533264366  - Real value:  70\n",
      "Inference of sigma:  96.71442871378558  - Real value:  100\n"
     ]
    },
    {
     "data": {
      "image/png": "[encoded data removed]",
      "text/plain": [
       "<Figure size 432x288 with 1 Axes>"
      ]
     },
     "metadata": {
      "filenames": {
       "image/png": "/home/rodolpho/Projects/bayesian/rethinking/stan/stan_quick_references/_build/jupyter_execute/stan__quick_references_5_1.png"
      }
     },
     "output_type": "display_data"
    }
   ],
   "source": [
    "results_data1_mu = np.mean(results_data1['mu'])\n",
    "results_data1_sigma = np.mean(results_data1['sigma'])\n",
    "\n",
    "print('Inference of mu: ' , results_data1_mu, ' - Real value: ', mu)\n",
    "print('Inference of sigma: ', results_data1_sigma, ' - Real value: ', sigma)\n",
    "\n",
    "plt.hist(results_data1['mu'].flatten(), rwidth=0.9, density=True)\n",
    "plt.title('Posteriori')\n",
    "plt.xlabel('y')\n",
    "plt.ylabel('probability')\n",
    "plt.show()"
   ]
  },
  {
   "cell_type": "markdown",
   "id": "7e9ab2f8",
   "metadata": {},
   "source": [
    "### Stan -  Reference Manual"
   ]
  },
  {
   "cell_type": "markdown",
   "id": "22aa4874",
   "metadata": {},
   "source": [
    "### 1. Comments Char\n",
    "\n",
    "Comments line: `//` or `#`\n",
    "\n",
    "Comments in block: `/* ... */`"
   ]
  },
  {
   "cell_type": "markdown",
   "id": "0d81af3e",
   "metadata": {},
   "source": [
    "### 2. Includes"
   ]
  },
  {
   "cell_type": "markdown",
   "id": "c459b334",
   "metadata": {},
   "source": [
    "Use `#include` to import stan file in another file.\n",
    "For example, the `#include my-stan-file-function.stan` on top of file this will be replaced by content in `my-stan-file-function.stan`. "
   ]
  },
  {
   "cell_type": "markdown",
   "id": "6de6ad91",
   "metadata": {},
   "source": [
    "### 3. Comments"
   ]
  },
  {
   "cell_type": "markdown",
   "id": "5f6ebec1",
   "metadata": {},
   "source": [
    "Example:\n",
    "\n",
    "```data {\n",
    "  int<lower=0> N;  // number of observations\n",
    "  array[N] real y;  // observations\n",
    "}```"
   ]
  },
  {
   "cell_type": "markdown",
   "id": "49fd3ff8",
   "metadata": {},
   "source": [
    "### 4. Whitespace"
   ]
  },
  {
   "cell_type": "markdown",
   "id": "c74f76e9",
   "metadata": {},
   "source": [
    "No indentation is need! "
   ]
  },
  {
   "cell_type": "markdown",
   "id": "2a3531f6",
   "metadata": {},
   "source": [
    "### 5. Data Type and Declarations"
   ]
  },
  {
   "cell_type": "markdown",
   "id": "2eb0ebbe",
   "metadata": {},
   "source": [
    "All variables should be declared in data type, like c\\c++.\n",
    "\n",
    "Stan is strong and static typing:\n",
    "1. Force the programmer's declarate a variable.\n",
    "2. Checking erros in compile time and flags erros.\n",
    "3. Don't propagate errors ever to the results."
   ]
  },
  {
   "cell_type": "markdown",
   "id": "0776d339",
   "metadata": {},
   "source": [
    "#### 5.1 Overview of data type\n"
   ]
  },
  {
   "cell_type": "markdown",
   "id": "fa2169f2",
   "metadata": {},
   "source": [
    "\n",
    "**Two primitive data type**: `real` and `int`.\n",
    "\n",
    "\n",
    "**Complex type**: `complex`, there is a complex number, real and imaginary component, both is `real`.\n",
    "\n",
    "\n",
    "**Vector and Matrix type:**:  `vector` to column vector, `row_vector` to row vectors, and `matrix`. (To complex type, `complex_vector`, `complex_row_vector` and `complex_matrix`)\n",
    "\n",
    "\n",
    "**Array types**: Any type can be made into an array type:\n",
    "    \n",
    " - `array[5] real a;` Array, labeled `a`, that have 5 postions with real type;\n",
    " \n",
    " - `array[10, 2] int b;` Array with 10 lines and 2 columns of the int type, called `b`.\n",
    " \n",
    " - `array[10, 10, 5] matrix[3, 3] c;` Array with $[10, 10 , 5]$ positions to matrix$[3,3]$ format, called `c`.\n",
    " \n",
    " - `array[12, 8, 15] complex z;` Declare a array of the complex type.\n",
    "\n",
    "\n",
    "**Constrained data type**: This variables are parameters, is helpful provided them  with constraints to aid internal check erros.\n",
    "\n",
    "- `int<lower=0> N;`\n",
    "\n",
    "- `real<upper=0> log_p;`\n",
    "\n",
    "- `vector<lower=-1, upper=1>[3] rho;`\n",
    "\n",
    "\n",
    "There are $4$ constrained vector data type:\n",
    "\n",
    "1. `simplex` to simple units.\n",
    "\n",
    "2. `unit-vector` to arrays\\[ \\] - unit-length vector.\n",
    "\n",
    "3. `ordered` to ordered vectors.\n",
    "\n",
    "4. `positive_ordered` to ordered positive vectors\n",
    "\n",
    "\n",
    "And there are constrained to matrix data type:\n",
    "\n",
    "\n",
    "1. `corr_matrix` for correlations matrices (*symmetric, positive definite, unit diagonal*)\n",
    "\n",
    "\n",
    "2. `cov_matrix` for covariance matrices (*symmetric, positive definite*)\n",
    "\n",
    "\n",
    "3. `cholesky_factor_cov` is the Cholesky factors of covariance matrices(*lower triangular, positive diagonal, product with own transpose is a covariance matrix*)\n",
    "\n",
    "\n",
    "4. `cholesky_factor_corr` is the Cholesky factors of correlations matrices (*lower triangular, positive diagonal, unit-length rows*)\n",
    "\n",
    "\n",
    "It's constrains will help check erros only in variables defined in the `data`, `transformed data`, `transformed parameters`, `generate quantities` blocks.\n",
    "\n",
    "Unconstrained variable will be declared as real type (${\\rm I\\!R}^n$) by default. "
   ]
  },
  {
   "cell_type": "markdown",
   "id": "174b3f52",
   "metadata": {},
   "source": [
    "#### 5.2 Primitive numerical data type"
   ]
  },
  {
   "cell_type": "markdown",
   "id": "01a0f7e5",
   "metadata": {},
   "source": [
    "**Integer Precision**: 32-bits (4-bytes) {$-2^{31}$, $2^{31} - 1$}\n",
    "\n",
    "**Real Precision**: 64-bits (8-bytes), slightly larger than $+/- 10^{307} $, with until 15 decimal digits of accuracy.\n",
    "\n",
    "**Not-a-number**: returns not-a-number functions errors if argument is not-a-number. And comparison operators: `not-a-number` == true, is *false* for every cases.\n",
    "\n",
    "**Infinite values**: Great than all numbers, equivalent to negative case."
   ]
  },
  {
   "cell_type": "markdown",
   "id": "10154597",
   "metadata": {},
   "source": [
    "#### 5.3 Complex numerical data type"
   ]
  },
  {
   "cell_type": "markdown",
   "id": "7be29ca8",
   "metadata": {},
   "source": [
    "- `complex z = 2 - 1.3i;`\n",
    "\n",
    "- `real re = get_real(z);  // re has value 2.0`\n",
    "\n",
    "- `real im = get_imag(z);  // im has value -1.3`"
   ]
  },
  {
   "cell_type": "markdown",
   "id": "f0db36c8",
   "metadata": {},
   "source": [
    "Promoting real to complex:\n",
    "\n",
    "- `real x = 5.0;`\n",
    "\n",
    "- `complex z = x;  // get_real(z) == 5.0, get_imag(z) == 0`"
   ]
  },
  {
   "cell_type": "markdown",
   "id": "d09035b9",
   "metadata": {},
   "source": [
    "#### 5.4 Scalar datatype and variable declarations"
   ]
  },
  {
   "cell_type": "markdown",
   "id": "fc9b97e3",
   "metadata": {},
   "source": [
    "- `int N;`  Unconstrained\n",
    "\n",
    "-  `int<lower=1> N;`  $N >= 1, \\forall$ $N$ in $\\mathbb{Z} $\n",
    "\n",
    "- `int<lower=0, upper=1> cond;`  $\\{0, 1\\}$ "
   ]
  },
  {
   "cell_type": "markdown",
   "id": "6a8f04f4",
   "metadata": {},
   "source": [
    "- `real<lower=0> sigma;` $\\sigma >=0 $"
   ]
  },
  {
   "cell_type": "markdown",
   "id": "9c5cdc67",
   "metadata": {},
   "source": [
    "- `real<upper=-1> x;` $x <= -1$"
   ]
  },
  {
   "cell_type": "markdown",
   "id": "f790403a",
   "metadata": {},
   "source": [
    "- `real<lower=-1, upper=1> rho;` $-1 <= \\rho <= 1$"
   ]
  },
  {
   "cell_type": "markdown",
   "id": "0ab38866",
   "metadata": {},
   "source": [
    "- `positive_infinity()` and `negative_infinty()` could be use to set limits, but this values are ignored in Stan."
   ]
  },
  {
   "cell_type": "markdown",
   "id": "962c8c40",
   "metadata": {},
   "source": [
    "**Affinely transformed real**: The transformation:\n",
    "$$x ↦ \\mu + \\sigma * x$$\n",
    "\n",
    "- $\\mu$: Offset\n",
    "\n",
    "- $\\sigma$: Multiplier (positive)\n",
    "\n",
    "Like constraint declarations, making the sampling process more efficient. Like a soft constraint:\n",
    "\n",
    "\n",
    "- `real<offset=1> x;`   $1 + 1 \\times x$\n",
    "\n",
    "- `real<multiplier=2>;`   $0 + 2\\times x$\n",
    "\n",
    "- `real<offset=1, multiplier=2> x;`   $1 + 2\\times x$\n"
   ]
  },
  {
   "cell_type": "markdown",
   "id": "3db75b9d",
   "metadata": {},
   "source": [
    "Example:\n",
    "\n",
    "```\n",
    "parameters {\n",
    "  real<offset=mu, multiplier=sigma> x;\n",
    "}\n",
    "model {\n",
    "  x ~ normal(mu, sigma);\n",
    "}\n",
    "\n",
    "```"
   ]
  },
  {
   "cell_type": "markdown",
   "id": "ea60718a",
   "metadata": {},
   "source": [
    "The theorical model that received the data from $x ~ normal(0, 1)$, can writer in stan model like:\n",
    "\n",
    "```\n",
    "parameter {\n",
    "    real x;  // This x ~ normal(0, 1)\n",
    "}\n",
    "\n",
    "model {\n",
    "    x ~ normal(mu, sigma);\n",
    "}\n",
    "```\n",
    "\n",
    "this code is equivalent to:\n",
    "\n",
    "```\n",
    "parameter {\n",
    "    real<offset=0, multiplier=1> x;  // This x ~ normal(0, 1)\n",
    "}\n",
    "model {\n",
    "    x ~ normal(mu, sigma);\n",
    "}\n",
    "```"
   ]
  },
  {
   "cell_type": "markdown",
   "id": "33c556bd",
   "metadata": {},
   "source": [
    "**Expressions as bounds and offset/multiplier**: We can use the variables, that have been declared before, to setting the values of the offset and multiplier.\n",
    "\n",
    "```\n",
    "data {\n",
    "    real lb;\n",
    "}\n",
    " \n",
    "parameters {\n",
    "    rea<lower=lb> phi;\n",
    "}\n",
    "```"
   ]
  },
  {
   "cell_type": "markdown",
   "id": "c1b4a8c5",
   "metadata": {},
   "source": [
    "Variables used in constraints can be any variable that has been defined at the point the constraint is used. For instance:\n",
    "\n",
    "```\n",
    "data {\n",
    "   int<lower=1> N;\n",
    "   array[N] real y;\n",
    "}\n",
    "parameters {\n",
    "   real<lower=min(y), upper=max(y)> phi;\n",
    "}\n",
    "```"
   ]
  },
  {
   "cell_type": "markdown",
   "id": "08acb128",
   "metadata": {},
   "source": [
    "**Declaring optional variable**: Variable that depends on a boolean constant.\n",
    "\n",
    "```\n",
    "data {\n",
    "    int<lower=0, upper=1> include_alpha;   // Only {0, 1}\n",
    "}\n",
    "parameters {\n",
    "    vector[include_alpha ? N : 0] alpha;\n",
    "}\n",
    "```\n",
    "\n",
    "If `include_alpha == True` then `alpha` vector exists, else  it will be exclude in output results automaticaly."
   ]
  },
  {
   "cell_type": "markdown",
   "id": "050fc789",
   "metadata": {},
   "source": [
    "#### 5.5 Vector and matrix data types"
   ]
  },
  {
   "cell_type": "markdown",
   "id": "d8aab125",
   "metadata": {},
   "source": [
    "Three types of container objects: `arrays`, `vector` and `matrix`. Vector and matrices are structure limited, vector 1-dimensional real or complex values. Matrix that two dimensional. Array is not matrix."
   ]
  }
 ],
 "metadata": {
  "kernelspec": {
   "display_name": "Python 3 (ipykernel)",
   "language": "python",
   "name": "python3"
  },
  "language_info": {
   "codemirror_mode": {
    "name": "ipython",
    "version": 3
   },
   "file_extension": ".py",
   "mimetype": "text/x-python",
   "name": "python",
   "nbconvert_exporter": "python",
   "pygments_lexer": "ipython3",
   "version": "3.8.0"
  }
 },
 "nbformat": 4,
 "nbformat_minor": 5
}