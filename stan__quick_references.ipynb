{
 "cells": [
  {
   "cell_type": "markdown",
   "id": "134ca9bb",
   "metadata": {},
   "source": [
    "$\\mathcal{P}$"
   ]
  },
  {
   "cell_type": "code",
   "execution_count": 2,
   "id": "4348e004",
   "metadata": {},
   "outputs": [],
   "source": [
    "import pandas as pd\n",
    "import numpy as np\n",
    "import matplotlib.pyplot as plt\n",
    "import stan\n",
    "\n",
    "from scipy import stats\n",
    "\n",
    "plt.style.use('seaborn-darkgrid')"
   ]
  },
  {
   "cell_type": "code",
   "execution_count": 3,
   "id": "b6dbc0db",
   "metadata": {},
   "outputs": [],
   "source": [
    "# Rodar esse comando antes de import a stan (pystan versão 3.x)\n",
    "import nest_asyncio\n",
    "nest_asyncio.apply()"
   ]
  },
  {
   "cell_type": "code",
   "execution_count": 4,
   "id": "06b3c416",
   "metadata": {},
   "outputs": [],
   "source": [
    "# Data generating data\n",
    "mu = 70\n",
    "sigma = 100\n",
    "\n",
    "data1 = stats.norm(mu, sigma).rvs(1000)"
   ]
  },
  {
   "cell_type": "code",
   "execution_count": 5,
   "id": "1402aef7",
   "metadata": {
    "tags": [
     "remove-output"
    ]
   },
   "outputs": [
    {
     "name": "stderr",
     "output_type": "stream",
     "text": [
      "\u001b[32mBuilding:\u001b[0m found in cache, done.\n",
      "\u001b[36mMessages from \u001b[0m\u001b[36;1mstanc\u001b[0m\u001b[36m:\u001b[0m\n",
      "Warning in '/tmp/httpstan_4_a2li2y/model_osfmwcg4.stan', line 15, column 20: Argument 60 suggests there may be parameters that are not unit scale; consider rescaling with a multiplier (see manual section 22.12).\n",
      "\u001b[36mSampling:\u001b[0m   0%\n",
      "\u001b[1A\u001b[0J\u001b[36mSampling:\u001b[0m  25% (2000/8000)\n",
      "\u001b[1A\u001b[0J\u001b[36mSampling:\u001b[0m  50% (4000/8000)\n",
      "\u001b[1A\u001b[0J\u001b[36mSampling:\u001b[0m  75% (6000/8000)\n",
      "\u001b[1A\u001b[0J\u001b[36mSampling:\u001b[0m 100% (8000/8000)\n",
      "\u001b[1A\u001b[0J\u001b[32mSampling:\u001b[0m 100% (8000/8000), done.\n",
      "\u001b[36mMessages received during sampling:\u001b[0m\n",
      "  Gradient evaluation took 3.1e-05 seconds\n",
      "  1000 transitions using 10 leapfrog steps per transition would take 0.31 seconds.\n",
      "  Adjust your expectations accordingly!\n",
      "  Gradient evaluation took 2.9e-05 seconds\n",
      "  1000 transitions using 10 leapfrog steps per transition would take 0.29 seconds.\n",
      "  Adjust your expectations accordingly!\n",
      "  Gradient evaluation took 1.9e-05 seconds\n",
      "  1000 transitions using 10 leapfrog steps per transition would take 0.19 seconds.\n",
      "  Adjust your expectations accordingly!\n",
      "  Gradient evaluation took 3.1e-05 seconds\n",
      "  1000 transitions using 10 leapfrog steps per transition would take 0.31 seconds.\n",
      "  Adjust your expectations accordingly!\n"
     ]
    }
   ],
   "source": [
    "# Essa estrutura está definida na página 77 - SR2\n",
    "\n",
    "model_data1 = \"\"\" \n",
    "    // Dado é a variável que foi medida!\n",
    "    data {   \n",
    "        int N;\n",
    "        real y[N];\n",
    "    }\n",
    "    \n",
    "    // Parâmetro é a váriável não observada.\n",
    "    parameters {  \n",
    "        real mu;\n",
    "        real<lower=0> sigma;\n",
    "    }\n",
    "    \n",
    "    model {\n",
    "        mu ~ normal(60, 10);\n",
    "        sigma ~ exponential(1);\n",
    "        \n",
    "        y ~ normal(mu, sigma);\n",
    "    }\n",
    "\"\"\"\n",
    "\n",
    "stan_data1 = {\n",
    "    'N': len(data1),\n",
    "    'y': data1,\n",
    "}\n",
    "\n",
    "posteriori = stan.build(model_data1, data=stan_data1)\n",
    "results_data1 = posteriori.sample(num_chains=4, num_samples=1000)"
   ]
  },
  {
   "cell_type": "code",
   "execution_count": 5,
   "id": "2d10c32f",
   "metadata": {},
   "outputs": [
    {
     "name": "stdout",
     "output_type": "stream",
     "text": [
      "Inference of mu:  68.25114571898543  - Real value:  70\n",
      "Inference of sigma:  95.92600601158598  - Real value:  100\n"
     ]
    },
    {
     "data": {
      "image/png": "[encoded data removed]",
      "text/plain": [
       "<Figure size 432x288 with 1 Axes>"
      ]
     },
     "metadata": {},
     "output_type": "display_data"
    }
   ],
   "source": [
    "results_data1_mu = np.mean(results_data1['mu'])\n",
    "results_data1_sigma = np.mean(results_data1['sigma'])\n",
    "\n",
    "print('Inference of mu: ' , results_data1_mu, ' - Real value: ', mu)\n",
    "print('Inference of sigma: ', results_data1_sigma, ' - Real value: ', sigma)\n",
    "\n",
    "plt.hist(results_data1['mu'].flatten(), rwidth=0.9, density=True)\n",
    "plt.title('Posteriori')\n",
    "plt.xlabel('y')\n",
    "plt.ylabel('probability')\n",
    "plt.show()"
   ]
  },
  {
   "cell_type": "markdown",
   "id": "7e9ab2f8",
   "metadata": {},
   "source": [
    "### Stan -  Reference Manual"
   ]
  },
  {
   "cell_type": "markdown",
   "id": "22aa4874",
   "metadata": {},
   "source": [
    "### 1. Comments Char\n",
    "\n",
    "Comments line: `//` or `#`\n",
    "\n",
    "Comments in block: `/* ... */`"
   ]
  },
  {
   "cell_type": "markdown",
   "id": "0d81af3e",
   "metadata": {},
   "source": [
    "### 2. Includes"
   ]
  },
  {
   "cell_type": "markdown",
   "id": "c459b334",
   "metadata": {},
   "source": [
    "Use `#include` to import stan file in another file.\n",
    "For example, the `#include my-stan-file-function.stan` on top of file this will be replaced by content in `my-stan-file-function.stan`. "
   ]
  },
  {
   "cell_type": "markdown",
   "id": "6de6ad91",
   "metadata": {},
   "source": [
    "### 3. Comments"
   ]
  },
  {
   "cell_type": "markdown",
   "id": "5f6ebec1",
   "metadata": {},
   "source": [
    "Example:\n",
    "\n",
    "```data {\n",
    "  int<lower=0> N;  // number of observations\n",
    "  array[N] real y;  // observations\n",
    "}```"
   ]
  },
  {
   "cell_type": "markdown",
   "id": "49fd3ff8",
   "metadata": {},
   "source": [
    "### 4. Whitespace"
   ]
  },
  {
   "cell_type": "markdown",
   "id": "c74f76e9",
   "metadata": {},
   "source": [
    "No indentation is need! "
   ]
  },
  {
   "cell_type": "markdown",
   "id": "2a3531f6",
   "metadata": {},
   "source": [
    "### 5. Data Type and Declarations"
   ]
  },
  {
   "cell_type": "markdown",
   "id": "2eb0ebbe",
   "metadata": {},
   "source": [
    "All variables should be declared in data type, like c\\c++.\n",
    "\n",
    "Stan is strong and static typing:\n",
    "1. Force the programmer's declarate a variable.\n",
    "2. Checking erros in compile time and flags erros.\n",
    "3. Don't propagate errors ever to the results."
   ]
  },
  {
   "cell_type": "markdown",
   "id": "0776d339",
   "metadata": {},
   "source": [
    "#### 5.1 Overview of data type\n"
   ]
  },
  {
   "cell_type": "markdown",
   "id": "fa2169f2",
   "metadata": {},
   "source": [
    "\n",
    "**Two primitive data type**: `real` and `int`.\n",
    "\n",
    "\n",
    "**Complex type**: `complex`, there is a complex number, real and imaginary component, both is `real`.\n",
    "\n",
    "\n",
    "**Vector and Matrix type:**:  `vector` to column vector, `row_vector` to row vectors, and `matrix`. (To complex type, `complex_vector`, `complex_row_vector` and `complex_matrix`)\n",
    "\n",
    "\n",
    "**Array types**: Any type can be made into an array type:\n",
    "    \n",
    " - `array[5] real a;` Array, labeled `a`, that have 5 postions with real type;\n",
    " \n",
    " - `array[10, 2] int b;` Array with 10 lines and 2 columns of the int type, called `b`.\n",
    " \n",
    " - `array[10, 10, 5] matrix[3, 3] c;` Array with $[10, 10 , 5]$ positions to matrix$[3,3]$ format, called `c`.\n",
    " \n",
    " - `array[12, 8, 15] complex z;` Declare a array of the complex type.\n",
    "\n",
    "\n",
    "**Constrained data type**: This variables are parameters, is helpful provided them  with constraints to aid internal check erros.\n",
    "\n",
    "- `int<lower=0> N;`\n",
    "\n",
    "- `real<upper=0> log_p;`\n",
    "\n",
    "- `vector<lower=-1, upper=1>[3] rho;`\n",
    "\n",
    "\n",
    "There are $4$ constrained vector data type:\n",
    "\n",
    "1. `simplex` to simple units.\n",
    "\n",
    "2. `unit-vector` to arrays\\[ \\] - unit-length vector.\n",
    "\n",
    "3. `ordered` to ordered vectors.\n",
    "\n",
    "4. `positive_ordered` to ordered positive vectors\n",
    "\n",
    "\n",
    "And there are constrained to matrix data type:\n",
    "\n",
    "\n",
    "1. `corr_matrix` for correlations matrices (*symmetric, positive definite, unit diagonal*)\n",
    "\n",
    "\n",
    "2. `cov_matrix` for covariance matrices (*symmetric, positive definite*)\n",
    "\n",
    "\n",
    "3. `cholesky_factor_cov` is the Cholesky factors of covariance matrices(*lower triangular, positive diagonal, product with own transpose is a covariance matrix*)\n",
    "\n",
    "\n",
    "4. `cholesky_factor_corr` is the Cholesky factors of correlations matrices (*lower triangular, positive diagonal, unit-length rows*)\n",
    "\n",
    "\n",
    "It's constrains will help check erros only in variables defined in the `data`, `transformed data`, `transformed parameters`, `generate quantities` blocks.\n",
    "\n",
    "Unconstrained variable will be declared as real type (${\\rm I\\!R}^n$) by default. "
   ]
  },
  {
   "cell_type": "markdown",
   "id": "174b3f52",
   "metadata": {},
   "source": [
    "#### 5.2 Primitive numerical data type"
   ]
  },
  {
   "cell_type": "markdown",
   "id": "01a0f7e5",
   "metadata": {},
   "source": [
    "**Integer Precision**: 32-bits (4-bytes) {$-2^{31}$, $2^{31} - 1$}\n",
    "\n",
    "**Real Precision**: 64-bits (8-bytes), slightly larger than $+/- 10^{307} $, with until 15 decimal digits of accuracy.\n",
    "\n",
    "**Not-a-number**: returns not-a-number functions errors if argument is not-a-number. And comparison operators: `not-a-number` == true, is *false* for every cases.\n",
    "\n",
    "**Infinite values**: Great than all numbers, equivalent to negative case."
   ]
  },
  {
   "cell_type": "markdown",
   "id": "10154597",
   "metadata": {},
   "source": [
    "#### 5.3 Complex numerical data type"
   ]
  },
  {
   "cell_type": "markdown",
   "id": "7be29ca8",
   "metadata": {},
   "source": [
    "- `complex z = 2 - 1.3i;`\n",
    "\n",
    "- `real re = get_real(z);  // re has value 2.0`\n",
    "\n",
    "- `real im = get_imag(z);  // im has value -1.3`"
   ]
  },
  {
   "cell_type": "markdown",
   "id": "f0db36c8",
   "metadata": {},
   "source": [
    "Promoting real to complex:\n",
    "\n",
    "- `real x = 5.0;`\n",
    "\n",
    "- `complex z = x;  // get_real(z) == 5.0, get_imag(z) == 0`"
   ]
  },
  {
   "cell_type": "markdown",
   "id": "d09035b9",
   "metadata": {},
   "source": [
    "#### 5.4 Scalar datatype and variable declarations"
   ]
  },
  {
   "cell_type": "markdown",
   "id": "fc9b97e3",
   "metadata": {},
   "source": [
    "- `int N;`  Unconstrained\n",
    "\n",
    "-  `int<lower=1> N;`  $N >= 1, \\forall$ $N$ in $\\mathbb{Z} $\n",
    "\n",
    "- `int<lower=0, upper=1> cond;`  $\\{0, 1\\}$ "
   ]
  },
  {
   "cell_type": "markdown",
   "id": "6a8f04f4",
   "metadata": {},
   "source": [
    "- `real<lower=0> sigma;` $\\sigma >=0 $"
   ]
  },
  {
   "cell_type": "markdown",
   "id": "9c5cdc67",
   "metadata": {},
   "source": [
    "- `real<upper=-1> x;` $x <= -1$"
   ]
  },
  {
   "cell_type": "markdown",
   "id": "f790403a",
   "metadata": {},
   "source": [
    "- `real<lower=-1, upper=1> rho;` $-1 <= \\rho <= 1$"
   ]
  },
  {
   "cell_type": "markdown",
   "id": "0ab38866",
   "metadata": {},
   "source": [
    "- `positive_infinity()` and `negative_infinty()` could be use to set limits, but this values are ignored in Stan."
   ]
  },
  {
   "cell_type": "markdown",
   "id": "962c8c40",
   "metadata": {},
   "source": [
    "**Affinely transformed real**: The transformation:\n",
    "$$x ↦ \\mu + \\sigma * x$$\n",
    "\n",
    "- $\\mu$: Offset\n",
    "\n",
    "- $\\sigma$: Multiplier (positive)\n",
    "\n",
    "Like constraint declarations, making the sampling process more efficient. Like a soft constraint:\n",
    "\n",
    "\n",
    "- `real<offset=1> x;`   $1 + 1 \\times x$\n",
    "\n",
    "- `real<multiplier=2>;`   $0 + 2\\times x$\n",
    "\n",
    "- `real<offset=1, multiplier=2> x;`   $1 + 2\\times x$\n"
   ]
  },
  {
   "cell_type": "markdown",
   "id": "e0bb9975",
   "metadata": {},
   "source": [
    "Example:\n",
    "\n",
    "```\n",
    "parameters {\n",
    "  real<offset=mu, multiplier=sigma> x;\n",
    "}\n",
    "model {\n",
    "  x ~ normal(mu, sigma);\n",
    "}\n",
    "\n",
    "```"
   ]
  },
  {
   "cell_type": "markdown",
   "id": "3d9c7c7e",
   "metadata": {},
   "source": [
    "The theorical model that received the data from $x ~ normal(0, 1)$, can writer in stan model like:\n",
    "\n",
    "```\n",
    "parameter {\n",
    "    real x;  // This x ~ normal(0, 1)\n",
    "}\n",
    "\n",
    "model {\n",
    "    x ~ normal(mu, sigma);\n",
    "}\n",
    "```\n",
    "\n",
    "this code is equivalent to:\n",
    "\n",
    "```\n",
    "parameter {\n",
    "    real<offset=0, multiplier=1> x;  // This x ~ normal(0, 1)\n",
    "}\n",
    "model {\n",
    "    x ~ normal(mu, sigma);\n",
    "}\n",
    "```"
   ]
  },
  {
   "cell_type": "markdown",
   "id": "8e25287f",
   "metadata": {},
   "source": [
    "**Expressions as bounds and offset/multiplier**: We can use the variables, that have been declared before, to setting the values of the offset and multiplier.\n",
    "\n",
    "```\n",
    "data {\n",
    "    real lb;\n",
    "}\n",
    " \n",
    "parameters {\n",
    "    rea<lower=lb> phi;\n",
    "}\n",
    "```"
   ]
  },
  {
   "cell_type": "markdown",
   "id": "013377de",
   "metadata": {},
   "source": [
    "Variables used in constraints can be any variable that has been defined at the point the constraint is used. For instance:\n",
    "\n",
    "```\n",
    "data {\n",
    "   int<lower=1> N;\n",
    "   array[N] real y;\n",
    "}\n",
    "parameters {\n",
    "   real<lower=min(y), upper=max(y)> phi;\n",
    "}\n",
    "```"
   ]
  },
  {
   "cell_type": "markdown",
   "id": "61ad0b97",
   "metadata": {},
   "source": [
    "**Declaring optional variable**: Variable that depends on a boolean constant.\n",
    "\n",
    "```\n",
    "data {\n",
    "    int<lower=0, upper=1> include_alpha;   // Only {0, 1}\n",
    "}\n",
    "parameters {\n",
    "    vector[include_alpha ? N : 0] alpha;\n",
    "}\n",
    "```\n",
    "\n",
    "If `include_alpha == True` then `alpha` vector exists, else  it will be exclude in output results automaticaly."
   ]
  },
  {
   "cell_type": "markdown",
   "id": "74f4a6d0",
   "metadata": {},
   "source": [
    "#### 5.5 Vector and matrix data types"
   ]
  },
  {
   "cell_type": "markdown",
   "id": "b3dfcd62",
   "metadata": {},
   "source": [
    "Three types of container objects: `arrays`, `vector` and `matrix`. Vector and matrices are structure limited, vector 1-dimensional real or complex values. Matrix that two dimensional. Array is not matrix."
   ]
  },
  {
   "cell_type": "markdown",
   "id": "69763c80",
   "metadata": {},
   "source": [
    "######  Vector:\n",
    "\n",
    "`vector[3] u;`  3-dimensional real vector.\n",
    "\n",
    "`vector<lower=0>[3] u;`  vector with non-negative values.\n",
    "\n",
    "`vector<offset=42, multiplier=3>[3] u;` vector with offset and multiplier\n"
   ]
  },
  {
   "cell_type": "markdown",
   "id": "343860d4",
   "metadata": {},
   "source": [
    "###### Complex vectors\n",
    "\n",
    "`complex_vector[3] v;`\n",
    "\n",
    "it's do not support any constraints"
   ]
  },
  {
   "cell_type": "markdown",
   "id": "371c9c69",
   "metadata": {},
   "source": [
    "###### Unit vector\n",
    " \n",
    "`unit_vector[5] theta;` Is declared to be a unit $5-vector$. Useful to validate unit length.\n"
   ]
  },
  {
   "cell_type": "markdown",
   "id": "7614f162",
   "metadata": {},
   "source": [
    "###### Ordered vector\n",
    "\n",
    "`ordered[5] c;`  All entries are sorted in ascending order. The vector often employed as cut points in oderder logistic regression models."
   ]
  },
  {
   "cell_type": "markdown",
   "id": "01b1304d",
   "metadata": {},
   "source": [
    "###### Positive, ordered vector\n",
    "\n",
    "`positive_ordered[5] d;`  Vector with positive real values and sorted ascending."
   ]
  },
  {
   "cell_type": "markdown",
   "id": "c5ec58a2",
   "metadata": {},
   "source": [
    "###### Row vectors\n",
    "\n",
    "`row_vector[1093] u;` It's a 1093-dimensional row vector.\n",
    "\n",
    "`row_vector<lower=-1, upper=1>[10] u;`\n",
    "\n",
    "`row_vector<offset=-42, multiplier=3>[3] u;` "
   ]
  },
  {
   "cell_type": "markdown",
   "id": "a0c89a5b",
   "metadata": {},
   "source": [
    "###### Complex row Vectors\n",
    "\n",
    "`complex_row_vector[12] v;` \n",
    "\n",
    "Not allow constraints."
   ]
  },
  {
   "cell_type": "markdown",
   "id": "30b27a7b",
   "metadata": {},
   "source": [
    "###### Matrices\n",
    "\n",
    "`matrix[M, N] A;` Where $M$ and $N$ are integer type.\n",
    "\n",
    "`matrix<upper=0>[3, 4] B;` Matrix with positive values.\n",
    "\n",
    "`matrix<offset=3, multiplier=2>[4, 3] C;` Matrix with offset and multiplier\n",
    "\n",
    "`matrix<multiplier=2>[4, 3] C;` Matrix with just multiplier."
   ]
  },
  {
   "cell_type": "markdown",
   "id": "c7a9f4a9",
   "metadata": {},
   "source": [
    "###### Assigning to rows of matrix\n",
    "\n",
    "`matrix[M, N] a;`\n",
    "\n",
    "`row_vector[N] b;`\n",
    "\n",
    "...\n",
    "\n",
    "`a[1] = b;`\n",
    "\n",
    "Copies the values row vector `b` to `a[1]`, where `a[1]` is the first row of matrix `a`."
   ]
  },
  {
   "cell_type": "markdown",
   "id": "51ce8982",
   "metadata": {},
   "source": [
    "##### Covariance matrices\n",
    "\n",
    "`cov_matrix[k] Omega;` It's a $k \\times k$ covariance matrix, symmetric and positive definite."
   ]
  },
  {
   "cell_type": "markdown",
   "id": "3775ff52",
   "metadata": {},
   "source": [
    "###### Correlation matrices\n",
    "\n",
    "`corr_matrix[3] Sigma;` symmetric, positive definite has entries between $-1$ and $1$ and has a unit diagonal."
   ]
  },
  {
   "cell_type": "markdown",
   "id": "c5d6c3d1",
   "metadata": {},
   "source": [
    "###### Cholesky factor of covariance matrices\n",
    "\n",
    "This a better than use covariance matrix directly.\n",
    "\n",
    "`cholesky_factor_cov[4] L;` Where $\\Sigma = LL^{T}$ and $\\Sigma$ is a covariance matrix.\n",
    "\n"
   ]
  },
  {
   "cell_type": "markdown",
   "id": "221b9009",
   "metadata": {},
   "source": [
    "##### Cholesky factors of positive semi-definite matrices\n",
    "\n",
    "We also use the general declarations to cholesky factor.\n",
    "\n",
    "`cholesky_factor_cov[M, N];` To be a positive semi-definite matrices of rank M."
   ]
  },
  {
   "cell_type": "markdown",
   "id": "4cabebf8",
   "metadata": {},
   "source": [
    "###### Cholesky factors of correlation matrices\n",
    "\n",
    "`cholesky_factor_corr[k] L;`  Represent Cholesky factor of a correlation matrix."
   ]
  },
  {
   "cell_type": "markdown",
   "id": "cf286478",
   "metadata": {},
   "source": [
    "###### Assigning constrained variables\n",
    "\n",
    "Constrained are not block to assigning between variable with same primitive data. "
   ]
  },
  {
   "cell_type": "markdown",
   "id": "12f33de6",
   "metadata": {},
   "source": [
    "- `real` with `real<lower=0, upper=1>`\n",
    "\n",
    "- `matrix[3,3]` with `cov_matrix[3]`\n",
    "\n",
    "- `matrix[3,3]` with `cholesky_factor_cov[3]`"
   ]
  },
  {
   "cell_type": "markdown",
   "id": "fea158cc",
   "metadata": {},
   "source": [
    "###### Expressions as size declarations\n",
    "\n",
    "Declare once the data and using in other blocks.\n",
    "\n",
    "`\n",
    "data {\n",
    "    int<lower=0> N_observed, N_missing;\n",
    "}\n",
    "transformed parameters {\n",
    "    vector[N_observed + N_missing] y;\n",
    "}\n",
    "`"
   ]
  },
  {
   "cell_type": "markdown",
   "id": "9611ee13",
   "metadata": {},
   "source": [
    "###### Accessing vector and matrix elements\n",
    "\n",
    "`\n",
    "matrix[M, N] m;\n",
    "row_vector[N] v;\n",
    "real x;\n",
    "//...\n",
    "v = m[2];  // m[2] is row_vector\n",
    "x = v[3];  // equivalent to x = m[2][3] or x = m[2, 3]\n",
    "`"
   ]
  },
  {
   "cell_type": "markdown",
   "id": "d7266d2a",
   "metadata": {},
   "source": [
    "###### Array index style\n",
    "\n",
    "The more efficient form to access array is by `m[2, 3]`."
   ]
  },
  {
   "cell_type": "markdown",
   "id": "570a1a5d",
   "metadata": {},
   "source": [
    "###### Size declaration restrictions\n",
    "\n",
    "`vector[M + N] y;`  Also to matrices and arrays."
   ]
  },
  {
   "cell_type": "markdown",
   "id": "0ddbb62e",
   "metadata": {},
   "source": [
    "#### 5.6 Array data type\n",
    "\n",
    "Support arrays of arbitrary dimensionof the any data type: integer, real, vectors, matrices and others arrays.\n",
    "\n",
    "To two-dimensional array `a` we can get value by `a[m, n]` or `a[m][n]`."
   ]
  },
  {
   "cell_type": "markdown",
   "id": "f8926bb4",
   "metadata": {},
   "source": [
    "#### Declaring array variables\n",
    "\n",
    "\n",
    "- `array[5] int n;` Is five-array integer labeled `n`.\n",
    "\n",
    "\n",
    "- `array[3, 4] complex a;` two-dimensional array.\n",
    "\n",
    "\n",
    "- `array[5, 4, 2] real<lower=0> z;` Five rows, four columns and two shelves real greater than zero.\n",
    "\n",
    "\n",
    "- `array[3] vector[7] mu;`  Array of the vector.\n",
    "\n",
    "\n",
    "- `array[2, 3, 4] cholesky_factor_cov[5, 6] mu;`"
   ]
  },
  {
   "cell_type": "markdown",
   "id": "4478c30d",
   "metadata": {},
   "source": [
    "#### Accessing array elements and subarrays\n",
    "\n",
    "The first index is `1`.\n",
    "\n",
    "\n",
    "If `array[5] int x;` than the first element is `x[1]` and the last element is `x[5]`.\n",
    "\n",
    "\n",
    "If `array[3, 4] real y` than `x[3]` is array of lenght `4`.\n"
   ]
  },
  {
   "cell_type": "markdown",
   "id": "708cbf05",
   "metadata": {},
   "source": [
    "#### Assingnig\n",
    "\n",
    "`\n",
    "array[9, 10, 11] real w;\n",
    "array[10, 11] real x;\n",
    "array[11] real y;`\n",
    "\n",
    "and \n",
    "\n",
    "`\n",
    "x = w[5];\n",
    "y = x[4];  // y == w[5][4] == w[5, 4]\n",
    "z = y[3];  // z == w[5][4][3] = w[5, 4, 3]\n",
    "`"
   ]
  },
  {
   "cell_type": "markdown",
   "id": "7e36eaea",
   "metadata": {},
   "source": [
    "#### Array of matrices and vectors\n",
    "\n",
    "`\n",
    "array[3, 4] vector[5] a;\n",
    "array[4] vector[5] b;\n",
    "array[5] c;\n",
    "real x\n",
    "`\n",
    "\n",
    "The following assignments are legal:\n",
    "\n",
    "`\n",
    "b = a[1];  // b is array of vector\n",
    "c = a[1, 3];  // c is vector\n",
    "c = b[3];  c is vector\n",
    "x = [1, 3, 5];  // x is scalar\n",
    "x = b[3, 5];\n",
    "x = c[5];\n",
    "`"
   ]
  },
  {
   "cell_type": "markdown",
   "id": "245e9e17",
   "metadata": {},
   "source": [
    "Consider the following matrix, vector and scalar declarations:\n",
    "\n",
    "`\n",
    "array[3, 4] matrix[6, 5] d;'\n",
    "array[4] matrix[6, 5] e;\n",
    "array[6, 5] f;\n",
    "row_vector[5] g;\n",
    "real x;\n",
    "`\n",
    "\n",
    "The following assigments are legal:\n",
    "\n",
    "`\n",
    "e = d[1];\n",
    "f = d[1, 3];\n",
    "f = e[3];\n",
    "g = d[1, 3, 2];\n",
    "g = e[3, 2];\n",
    "g = f[2];\n",
    "x = d[1, 3, 5, 2];\n",
    "x = e[3, 5, 2];\n",
    "x = f[5, 2];\n",
    "x = g[2];\n",
    "`\n"
   ]
  },
  {
   "cell_type": "markdown",
   "id": "77203299",
   "metadata": {},
   "source": [
    "### 6. Expressions"
   ]
  },
  {
   "cell_type": "markdown",
   "id": "f45396f8",
   "metadata": {},
   "source": [
    "### 7. Statements\n",
    "\n",
    "`real x = 5;\n",
    "x += 7;  // value of x is now 12`\n",
    "\n",
    "In general:\n",
    "\n",
    "`x op= y;`\n",
    "`x = x op y;`\n",
    "\n",
    "With vectors:\n",
    "\n",
    "`vector[N] x;\n",
    "x[3] += 2;`"
   ]
  },
  {
   "cell_type": "markdown",
   "id": "c9feaa1a",
   "metadata": {},
   "source": [
    "#### 7.4 Sampling Statements\n",
    "\n",
    " \n",
    "**Truncation distribution**\n",
    "\n",
    "`y ~ normal(0, 1) T[-0.5, 2.1];`  Truncate in both side\n",
    "\n",
    "`y ~ normal(0, 1) T[-0.5, ];`  Trucate with a lower bounds\n",
    "\n",
    "`y ~ normal(0, 1) T[ , 2.1];`  Truncate with a upper bounds\n",
    "\n",
    "\n",
    "Truncate continuos distributions need use `int` or `real` type. For discrete distribution, use only `int`."
   ]
  },
  {
   "cell_type": "markdown",
   "id": "751b0870",
   "metadata": {},
   "source": [
    "##### 7.5 For Loops"
   ]
  },
  {
   "cell_type": "markdown",
   "id": "3db0b0e9",
   "metadata": {},
   "source": [
    "`for (n in 1:N) {\n",
    "    y[n] ~ normal(mu, sigma)\n",
    "}`"
   ]
  },
  {
   "cell_type": "markdown",
   "id": "c00919b2",
   "metadata": {},
   "source": [
    "`for (n in L:H)`\n",
    "\n",
    "Example\n",
    "\n",
    "`for (n in 2:5){...}`\n",
    "\n",
    "`n` will be equal to `2, 3, 4 and 5`"
   ]
  },
  {
   "cell_type": "markdown",
   "id": "29000950",
   "metadata": {},
   "source": [
    "#### 7.6 Foreach Loops\n",
    "\n",
    "IF `ys` is an expression denoting a container (*vector, row vector, matrix or array*), then:\n",
    "\n",
    "`for (y is ys){\n",
    "    // ... handling y\n",
    "}`\n",
    "\n",
    "- `vector`, `row_vector`, `array[] T`: Elements visited in order\n",
    "\n",
    "- `matrix`: Elements visited in column-major order\n",
    "\n",
    "`matrix[2, 3] yss;\n",
    "for (y in yss){\n",
    "    // ... handling y\n",
    "}\n",
    "`\n",
    "\n",
    "`y` assuming that order: `y[1,1]`, `y[2,1]`, `y[2, 1]`, ..., `y[2, 3]` "
   ]
  },
  {
   "cell_type": "markdown",
   "id": "4c78e072",
   "metadata": {},
   "source": [
    "##### 7.7 Conditional statements\n",
    "\n",
    "`if (condition1)\n",
    "    statement1\n",
    " else if (conditinal2)\n",
    "    statement2\n",
    " ...\n",
    " else if (conditionN-1)\n",
    "    statementN-1\n",
    " else\n",
    "    statementN\n",
    "`"
   ]
  },
  {
   "cell_type": "markdown",
   "id": "d1407ddd",
   "metadata": {},
   "source": [
    "##### 7.8 While\n",
    "\n",
    "`while(condition)\n",
    "    body\n",
    "`"
   ]
  },
  {
   "cell_type": "markdown",
   "id": "062d6836",
   "metadata": {},
   "source": [
    "##### 7.10  Break and continue statments\n",
    "\n",
    "`continue` and `break` is used in loops to alter control flow.\n",
    "\n",
    "`while(1) {\n",
    "    if (n < 0) {\n",
    "        break;\n",
    "    }\n",
    "    foo(n);\n",
    "    n = n -1;\n",
    "}`\n",
    "\n",
    "\n",
    "`real sum;\n",
    "sum = 0;\n",
    "\n",
    "for (n in 1:size(x)) {\n",
    "    if (x[n] <= 0) {\n",
    "        continue;\n",
    "    }\n",
    "    sum += x[n];\n",
    "}`"
   ]
  },
  {
   "cell_type": "markdown",
   "id": "e60e1cc1",
   "metadata": {},
   "source": [
    "##### 7.11 Print Statements\n",
    "\n",
    "`for (1 in 1:N) {\n",
    "    print(\"loop iteraction: \", n);\n",
    "}`"
   ]
  },
  {
   "cell_type": "markdown",
   "id": "5d32c64f",
   "metadata": {},
   "source": [
    "##### 7.12 Reject Statements\n",
    "\n",
    "`reject` is like `print`, but used to report errors os problematic values during.\n",
    "\n",
    "`if (x < 0) {\n",
    "    reject(\"x must not be negative; found x=\", x)\n",
    "}`"
   ]
  },
  {
   "cell_type": "markdown",
   "id": "a96a7ee5",
   "metadata": {},
   "source": [
    "#### 8 Program Blocks"
   ]
  },
  {
   "cell_type": "markdown",
   "id": "c1068461",
   "metadata": {},
   "source": [
    "All blocks in stan - skeletal Stan Program\n",
    "\n",
    "`functions{\n",
    "...}\n",
    "data{\n",
    "...}\n",
    "transformed data{\n",
    "...}\n",
    "parameters{\n",
    "...}\n",
    "transformed parameters{\n",
    "...}\n",
    "model{\n",
    "...}\n",
    "generated quantities{\n",
    "...}\n",
    "`"
   ]
  },
  {
   "cell_type": "markdown",
   "id": "fa127d1d",
   "metadata": {},
   "source": [
    "-----------------------------"
   ]
  },
  {
   "cell_type": "code",
   "execution_count": 89,
   "id": "ea2a9053",
   "metadata": {},
   "outputs": [],
   "source": [
    "# Modeling Testing\n",
    "# ================\n",
    "\n",
    "N = 100\n",
    "index_var = np.random.randint(2, size=N)\n",
    "\n",
    "y = [np.random.normal(6, 1) if i == 0 else np.random.normal(3, 1) for i in index_var]"
   ]
  },
  {
   "cell_type": "code",
   "execution_count": 104,
   "id": "5d74833e",
   "metadata": {
    "scrolled": true
   },
   "outputs": [
    {
     "name": "stdout",
     "output_type": "stream",
     "text": [
      "\u001b[36mBuilding:\u001b[0m 0.1s\n",
      "\u001b[1A\u001b[0J\u001b[36mBuilding:\u001b[0m 0.2s\n",
      "\u001b[1A\u001b[0J\u001b[36mBuilding:\u001b[0m 0.3s\n",
      "\u001b[1A\u001b[0J\u001b[36mBuilding:\u001b[0m 0.4s\n",
      "\u001b[1A\u001b[0J\u001b[36mBuilding:\u001b[0m 0.5s\n",
      "\u001b[1A\u001b[0J\u001b[36mBuilding:\u001b[0m 0.6s\n",
      "\u001b[1A\u001b[0J\u001b[36mBuilding:\u001b[0m 0.7s\n",
      "\u001b[1A\u001b[0J\u001b[36mBuilding:\u001b[0m 0.8s\n",
      "\u001b[1A\u001b[0J\u001b[36mBuilding:\u001b[0m 0.9s\n",
      "\u001b[1A\u001b[0J\u001b[36mBuilding:\u001b[0m 1.0s\n",
      "\u001b[1A\u001b[0J\u001b[36mBuilding:\u001b[0m 1.1s\n",
      "\u001b[1A\u001b[0J\u001b[36mBuilding:\u001b[0m 1.2s\n",
      "\u001b[1A\u001b[0J\u001b[36mBuilding:\u001b[0m 1.3s\n",
      "\u001b[1A\u001b[0J\u001b[36mBuilding:\u001b[0m 1.5s\n",
      "\u001b[1A\u001b[0J\u001b[36mBuilding:\u001b[0m 1.6s\n",
      "\u001b[1A\u001b[0J\u001b[36mBuilding:\u001b[0m 1.7s\n",
      "\u001b[1A\u001b[0J\u001b[36mBuilding:\u001b[0m 1.8s\n",
      "\u001b[1A\u001b[0J\u001b[36mBuilding:\u001b[0m 1.9s\n",
      "\u001b[1A\u001b[0J\u001b[36mBuilding:\u001b[0m 2.0s\n",
      "\u001b[1A\u001b[0J\u001b[36mBuilding:\u001b[0m 2.1s\n",
      "\u001b[1A\u001b[0J\u001b[36mBuilding:\u001b[0m 2.2s\n",
      "\u001b[1A\u001b[0J\u001b[36mBuilding:\u001b[0m 2.3s\n",
      "\u001b[1A\u001b[0J\u001b[36mBuilding:\u001b[0m 2.4s\n",
      "\u001b[1A\u001b[0J\u001b[36mBuilding:\u001b[0m 2.5s\n",
      "\u001b[1A\u001b[0J\u001b[36mBuilding:\u001b[0m 2.6s\n",
      "\u001b[1A\u001b[0J\u001b[36mBuilding:\u001b[0m 2.7s\n",
      "\u001b[1A\u001b[0J\u001b[36mBuilding:\u001b[0m 2.8s\n",
      "\u001b[1A\u001b[0J\u001b[36mBuilding:\u001b[0m 2.9s\n",
      "\u001b[1A\u001b[0J\u001b[36mBuilding:\u001b[0m 3.0s\n",
      "\u001b[1A\u001b[0J\u001b[36mBuilding:\u001b[0m 3.1s\n",
      "\u001b[1A\u001b[0J\u001b[36mBuilding:\u001b[0m 3.2s\n",
      "\u001b[1A\u001b[0J\u001b[36mBuilding:\u001b[0m 3.3s\n",
      "\u001b[1A\u001b[0J\u001b[36mBuilding:\u001b[0m 3.4s\n",
      "\u001b[1A\u001b[0J\u001b[36mBuilding:\u001b[0m 3.5s\n",
      "\u001b[1A\u001b[0J\u001b[36mBuilding:\u001b[0m 3.6s\n",
      "\u001b[1A\u001b[0J\u001b[36mBuilding:\u001b[0m 3.7s\n",
      "\u001b[1A\u001b[0J\u001b[36mBuilding:\u001b[0m 3.8s\n",
      "\u001b[1A\u001b[0J\u001b[36mBuilding:\u001b[0m 3.9s\n",
      "\u001b[1A\u001b[0J\u001b[36mBuilding:\u001b[0m 4.0s\n",
      "\u001b[1A\u001b[0J\u001b[36mBuilding:\u001b[0m 4.1s\n",
      "\u001b[1A\u001b[0J\u001b[36mBuilding:\u001b[0m 4.2s\n",
      "\u001b[1A\u001b[0J\u001b[36mBuilding:\u001b[0m 4.3s\n",
      "\u001b[1A\u001b[0J\u001b[36mBuilding:\u001b[0m 4.4s\n",
      "\u001b[1A\u001b[0J\u001b[36mBuilding:\u001b[0m 4.6s\n",
      "\u001b[1A\u001b[0J\u001b[36mBuilding:\u001b[0m 4.7s\n",
      "\u001b[1A\u001b[0J\u001b[36mBuilding:\u001b[0m 4.8s\n",
      "\u001b[1A\u001b[0J\u001b[36mBuilding:\u001b[0m 4.9s\n",
      "\u001b[1A\u001b[0J\u001b[36mBuilding:\u001b[0m 5.0s\n",
      "\u001b[1A\u001b[0J\u001b[36mBuilding:\u001b[0m 5.1s\n",
      "\u001b[1A\u001b[0J\u001b[36mBuilding:\u001b[0m 5.2s\n",
      "\u001b[1A\u001b[0J\u001b[36mBuilding:\u001b[0m 5.3s\n",
      "\u001b[1A\u001b[0J\u001b[36mBuilding:\u001b[0m 5.4s\n",
      "\u001b[1A\u001b[0J\u001b[36mBuilding:\u001b[0m 5.5s\n",
      "\u001b[1A\u001b[0J\u001b[36mBuilding:\u001b[0m 5.6s\n",
      "\u001b[1A\u001b[0J\u001b[36mBuilding:\u001b[0m 5.7s\n",
      "\u001b[1A\u001b[0J\u001b[36mBuilding:\u001b[0m 5.8s\n",
      "\u001b[1A\u001b[0J\u001b[36mBuilding:\u001b[0m 5.9s\n",
      "\u001b[1A\u001b[0J\u001b[36mBuilding:\u001b[0m 6.0s\n",
      "\u001b[1A\u001b[0J\u001b[36mBuilding:\u001b[0m 6.1s\n",
      "\u001b[1A\u001b[0J\u001b[36mBuilding:\u001b[0m 6.2s\n",
      "\u001b[1A\u001b[0J\u001b[36mBuilding:\u001b[0m 6.3s\n",
      "\u001b[1A\u001b[0J\u001b[36mBuilding:\u001b[0m 6.4s\n",
      "\u001b[1A\u001b[0J\u001b[36mBuilding:\u001b[0m 6.5s\n",
      "\u001b[1A\u001b[0J\u001b[36mBuilding:\u001b[0m 6.6s\n",
      "\u001b[1A\u001b[0J\u001b[36mBuilding:\u001b[0m 6.7s\n",
      "\u001b[1A\u001b[0J\u001b[36mBuilding:\u001b[0m 6.8s\n",
      "\u001b[1A\u001b[0J\u001b[36mBuilding:\u001b[0m 6.9s\n"
     ]
    },
    {
     "name": "stderr",
     "output_type": "stream",
     "text": [
      "In file included from /home/rodolpho/Projects/bayesian/BAYES/lib/python3.8/site-packages/httpstan/include/stan/math/prim/fun.hpp:110,\n",
      "                 from /home/rodolpho/Projects/bayesian/BAYES/lib/python3.8/site-packages/httpstan/include/stan/math/rev/fun.hpp:7,\n",
      "                 from /home/rodolpho/Projects/bayesian/BAYES/lib/python3.8/site-packages/httpstan/include/stan/math/rev.hpp:10,\n",
      "                 from /home/rodolpho/Projects/bayesian/BAYES/lib/python3.8/site-packages/httpstan/include/stan/math.hpp:19,\n",
      "                 from /home/rodolpho/Projects/bayesian/BAYES/lib/python3.8/site-packages/httpstan/include/stan/model/model_header.hpp:4,\n",
      "                 from /home/rodolpho/.cache/httpstan/4.5.0/models/k57d4by5/model_k57d4by5.cpp:2:\n",
      "/home/rodolpho/Projects/bayesian/BAYES/lib/python3.8/site-packages/httpstan/include/stan/math/prim/fun/generalized_inverse.hpp: In function ‘Eigen::Matrix<typename stan::value_type<T>::type, EigMat::ColsAtCompileTime, EigMat::RowsAtCompileTime> stan::math::generalized_inverse(const EigMat&)’:\n",
      "/home/rodolpho/Projects/bayesian/BAYES/lib/python3.8/site-packages/httpstan/include/stan/math/prim/fun/generalized_inverse.hpp:34:9: warning: typedef ‘using value_t = stan::value_type_t<T>’ locally defined but not used [-Wunused-local-typedefs]\n",
      "   34 |   using value_t = value_type_t<EigMat>;\n",
      "      |         ^~~~~~~\n"
     ]
    },
    {
     "name": "stdout",
     "output_type": "stream",
     "text": [
      "\u001b[1A\u001b[0J\u001b[36mBuilding:\u001b[0m 7.0s\n",
      "\u001b[1A\u001b[0J\u001b[36mBuilding:\u001b[0m 7.1s\n",
      "\u001b[1A\u001b[0J\u001b[36mBuilding:\u001b[0m 7.2s\n",
      "\u001b[1A\u001b[0J\u001b[36mBuilding:\u001b[0m 7.3s\n"
     ]
    },
    {
     "name": "stderr",
     "output_type": "stream",
     "text": [
      "In file included from /home/rodolpho/Projects/bayesian/BAYES/lib/python3.8/site-packages/httpstan/include/stan/math/prim/fun.hpp:321,\n",
      "                 from /home/rodolpho/Projects/bayesian/BAYES/lib/python3.8/site-packages/httpstan/include/stan/math/rev/fun.hpp:7,\n",
      "                 from /home/rodolpho/Projects/bayesian/BAYES/lib/python3.8/site-packages/httpstan/include/stan/math/rev.hpp:10,\n",
      "                 from /home/rodolpho/Projects/bayesian/BAYES/lib/python3.8/site-packages/httpstan/include/stan/math.hpp:19,\n",
      "                 from /home/rodolpho/Projects/bayesian/BAYES/lib/python3.8/site-packages/httpstan/include/stan/model/model_header.hpp:4,\n",
      "                 from /home/rodolpho/.cache/httpstan/4.5.0/models/k57d4by5/model_k57d4by5.cpp:2:\n",
      "/home/rodolpho/Projects/bayesian/BAYES/lib/python3.8/site-packages/httpstan/include/stan/math/prim/fun/tail.hpp: In function ‘std::vector<T1> stan::math::tail(const std::vector<T1>&, size_t)’:\n",
      "/home/rodolpho/Projects/bayesian/BAYES/lib/python3.8/site-packages/httpstan/include/stan/math/prim/fun/tail.hpp:42:9: warning: typedef ‘using idx_t = stan::math::index_type_t<std::vector<T1> >’ locally defined but not used [-Wunused-local-typedefs]\n",
      "   42 |   using idx_t = index_type_t<std::vector<T>>;\n",
      "      |         ^~~~~\n"
     ]
    },
    {
     "name": "stdout",
     "output_type": "stream",
     "text": [
      "\u001b[1A\u001b[0J\u001b[36mBuilding:\u001b[0m 7.4s\n",
      "\u001b[1A\u001b[0J\u001b[36mBuilding:\u001b[0m 7.5s\n",
      "\u001b[1A\u001b[0J\u001b[36mBuilding:\u001b[0m 7.7s\n",
      "\u001b[1A\u001b[0J\u001b[36mBuilding:\u001b[0m 7.8s\n",
      "\u001b[1A\u001b[0J\u001b[36mBuilding:\u001b[0m 7.9s\n",
      "\u001b[1A\u001b[0J\u001b[36mBuilding:\u001b[0m 8.0s\n",
      "\u001b[1A\u001b[0J\u001b[36mBuilding:\u001b[0m 8.1s\n",
      "\u001b[1A\u001b[0J\u001b[36mBuilding:\u001b[0m 8.2s\n",
      "\u001b[1A\u001b[0J\u001b[36mBuilding:\u001b[0m 8.3s\n",
      "\u001b[1A\u001b[0J\u001b[36mBuilding:\u001b[0m 8.4s\n",
      "\u001b[1A\u001b[0J\u001b[36mBuilding:\u001b[0m 8.5s\n",
      "\u001b[1A\u001b[0J\u001b[36mBuilding:\u001b[0m 8.6s\n",
      "\u001b[1A\u001b[0J\u001b[36mBuilding:\u001b[0m 8.7s\n",
      "\u001b[1A\u001b[0J\u001b[36mBuilding:\u001b[0m 8.8s\n",
      "\u001b[1A\u001b[0J\u001b[36mBuilding:\u001b[0m 8.9s\n",
      "\u001b[1A\u001b[0J\u001b[36mBuilding:\u001b[0m 9.0s\n"
     ]
    },
    {
     "name": "stderr",
     "output_type": "stream",
     "text": [
      "In file included from /home/rodolpho/Projects/bayesian/BAYES/lib/python3.8/site-packages/httpstan/include/stan/math/rev/fun.hpp:32,\n",
      "                 from /home/rodolpho/Projects/bayesian/BAYES/lib/python3.8/site-packages/httpstan/include/stan/math/rev.hpp:10,\n",
      "                 from /home/rodolpho/Projects/bayesian/BAYES/lib/python3.8/site-packages/httpstan/include/stan/math.hpp:19,\n",
      "                 from /home/rodolpho/Projects/bayesian/BAYES/lib/python3.8/site-packages/httpstan/include/stan/model/model_header.hpp:4,\n",
      "                 from /home/rodolpho/.cache/httpstan/4.5.0/models/k57d4by5/model_k57d4by5.cpp:2:\n",
      "/home/rodolpho/Projects/bayesian/BAYES/lib/python3.8/site-packages/httpstan/include/stan/math/rev/fun/cholesky_decompose.hpp: In lambda function:\n",
      "/home/rodolpho/Projects/bayesian/BAYES/lib/python3.8/site-packages/httpstan/include/stan/math/rev/fun/cholesky_decompose.hpp:83:11: warning: typedef ‘using Block_ = class Eigen::Block<Eigen::Matrix<double, -1, -1>, -1, -1, false>’ locally defined but not used [-Wunused-local-typedefs]\n",
      "   83 |     using Block_ = Eigen::Block<Eigen::MatrixXd>;\n",
      "      |           ^~~~~~\n",
      "In file included from /home/rodolpho/Projects/bayesian/BAYES/lib/python3.8/site-packages/httpstan/include/stan/math/rev/fun.hpp:34,\n",
      "                 from /home/rodolpho/Projects/bayesian/BAYES/lib/python3.8/site-packages/httpstan/include/stan/math/rev.hpp:10,\n",
      "                 from /home/rodolpho/Projects/bayesian/BAYES/lib/python3.8/site-packages/httpstan/include/stan/math.hpp:19,\n",
      "                 from /home/rodolpho/Projects/bayesian/BAYES/lib/python3.8/site-packages/httpstan/include/stan/model/model_header.hpp:4,\n",
      "                 from /home/rodolpho/.cache/httpstan/4.5.0/models/k57d4by5/model_k57d4by5.cpp:2:\n",
      "/home/rodolpho/Projects/bayesian/BAYES/lib/python3.8/site-packages/httpstan/include/stan/math/rev/fun/cholesky_factor_constrain.hpp: In function ‘stan::math::var_value<Eigen::Matrix<double, -1, -1> > stan::math::cholesky_factor_constrain(const T&, int, int)’:\n",
      "/home/rodolpho/Projects/bayesian/BAYES/lib/python3.8/site-packages/httpstan/include/stan/math/rev/fun/cholesky_factor_constrain.hpp:32:9: warning: typedef ‘using T_scalar = stan::value_type_t<T>’ locally defined but not used [-Wunused-local-typedefs]\n",
      "   32 |   using T_scalar = value_type_t<T>;\n",
      "      |         ^~~~~~~~\n"
     ]
    },
    {
     "name": "stdout",
     "output_type": "stream",
     "text": [
      "\u001b[1A\u001b[0J\u001b[36mBuilding:\u001b[0m 9.1s\n",
      "\u001b[1A\u001b[0J\u001b[36mBuilding:\u001b[0m 9.2s\n",
      "\u001b[1A\u001b[0J\u001b[36mBuilding:\u001b[0m 9.3s\n",
      "\u001b[1A\u001b[0J\u001b[36mBuilding:\u001b[0m 9.4s\n",
      "\u001b[1A\u001b[0J\u001b[36mBuilding:\u001b[0m 9.5s\n",
      "\u001b[1A\u001b[0J\u001b[36mBuilding:\u001b[0m 9.6s\n",
      "\u001b[1A\u001b[0J\u001b[36mBuilding:\u001b[0m 9.7s\n"
     ]
    },
    {
     "name": "stderr",
     "output_type": "stream",
     "text": [
      "In file included from /home/rodolpho/Projects/bayesian/BAYES/lib/python3.8/site-packages/httpstan/include/stan/math/rev/fun.hpp:74,\n",
      "                 from /home/rodolpho/Projects/bayesian/BAYES/lib/python3.8/site-packages/httpstan/include/stan/math/rev.hpp:10,\n",
      "                 from /home/rodolpho/Projects/bayesian/BAYES/lib/python3.8/site-packages/httpstan/include/stan/math.hpp:19,\n",
      "                 from /home/rodolpho/Projects/bayesian/BAYES/lib/python3.8/site-packages/httpstan/include/stan/model/model_header.hpp:4,\n",
      "                 from /home/rodolpho/.cache/httpstan/4.5.0/models/k57d4by5/model_k57d4by5.cpp:2:\n",
      "/home/rodolpho/Projects/bayesian/BAYES/lib/python3.8/site-packages/httpstan/include/stan/math/rev/fun/generalized_inverse.hpp: In function ‘auto stan::math::generalized_inverse(const VarMat&)’:\n",
      "/home/rodolpho/Projects/bayesian/BAYES/lib/python3.8/site-packages/httpstan/include/stan/math/rev/fun/generalized_inverse.hpp:64:9: warning: typedef ‘using value_t = stan::value_type_t<T>’ locally defined but not used [-Wunused-local-typedefs]\n",
      "   64 |   using value_t = value_type_t<VarMat>;\n",
      "      |         ^~~~~~~\n"
     ]
    },
    {
     "name": "stdout",
     "output_type": "stream",
     "text": [
      "\u001b[1A\u001b[0J\u001b[36mBuilding:\u001b[0m 9.8s\n",
      "\u001b[1A\u001b[0J\u001b[36mBuilding:\u001b[0m 9.9s\n"
     ]
    },
    {
     "name": "stderr",
     "output_type": "stream",
     "text": [
      "In file included from /home/rodolpho/Projects/bayesian/BAYES/lib/python3.8/site-packages/httpstan/include/stan/math/rev/fun.hpp:121,\n",
      "                 from /home/rodolpho/Projects/bayesian/BAYES/lib/python3.8/site-packages/httpstan/include/stan/math/rev.hpp:10,\n",
      "                 from /home/rodolpho/Projects/bayesian/BAYES/lib/python3.8/site-packages/httpstan/include/stan/math.hpp:19,\n",
      "                 from /home/rodolpho/Projects/bayesian/BAYES/lib/python3.8/site-packages/httpstan/include/stan/model/model_header.hpp:4,\n",
      "                 from /home/rodolpho/.cache/httpstan/4.5.0/models/k57d4by5/model_k57d4by5.cpp:2:\n",
      "/home/rodolpho/Projects/bayesian/BAYES/lib/python3.8/site-packages/httpstan/include/stan/math/rev/fun/lub_constrain.hpp: In function ‘auto stan::math::lub_constrain(const T&, const L&, const U&)’:\n",
      "/home/rodolpho/Projects/bayesian/BAYES/lib/python3.8/site-packages/httpstan/include/stan/math/rev/fun/lub_constrain.hpp:485:9: warning: typedef ‘using plain_x_array = stan::plain_type_t<decltype (arena_x_val.array())>’ locally defined but not used [-Wunused-local-typedefs]\n",
      "  485 |   using plain_x_array = plain_type_t<decltype(arena_x_val.array())>;\n",
      "      |         ^~~~~~~~~~~~~\n",
      "/home/rodolpho/Projects/bayesian/BAYES/lib/python3.8/site-packages/httpstan/include/stan/math/rev/fun/lub_constrain.hpp: In function ‘auto stan::math::lub_constrain(const T&, const L&, const U&, stan::return_type_t<T_x, T_sigma, T_l>&)’:\n",
      "/home/rodolpho/Projects/bayesian/BAYES/lib/python3.8/site-packages/httpstan/include/stan/math/rev/fun/lub_constrain.hpp:565:9: warning: typedef ‘using plain_x_array = stan::plain_type_t<decltype (arena_x_val.array())>’ locally defined but not used [-Wunused-local-typedefs]\n",
      "  565 |   using plain_x_array = plain_type_t<decltype(arena_x_val.array())>;\n",
      "      |         ^~~~~~~~~~~~~\n"
     ]
    },
    {
     "name": "stdout",
     "output_type": "stream",
     "text": [
      "\u001b[1A\u001b[0J\u001b[36mBuilding:\u001b[0m 10.0s\n",
      "\u001b[1A\u001b[0J\u001b[36mBuilding:\u001b[0m 10.1s\n",
      "\u001b[1A\u001b[0J\u001b[36mBuilding:\u001b[0m 10.2s\n",
      "\u001b[1A\u001b[0J\u001b[36mBuilding:\u001b[0m 10.3s\n",
      "\u001b[1A\u001b[0J\u001b[36mBuilding:\u001b[0m 10.4s\n",
      "\u001b[1A\u001b[0J\u001b[36mBuilding:\u001b[0m 10.5s\n",
      "\u001b[1A\u001b[0J\u001b[36mBuilding:\u001b[0m 10.6s\n",
      "\u001b[1A\u001b[0J\u001b[36mBuilding:\u001b[0m 10.7s\n",
      "\u001b[1A\u001b[0J\u001b[36mBuilding:\u001b[0m 10.8s\n",
      "\u001b[1A\u001b[0J\u001b[36mBuilding:\u001b[0m 11.0s\n"
     ]
    },
    {
     "name": "stderr",
     "output_type": "stream",
     "text": [
      "In file included from /home/rodolpho/Projects/bayesian/BAYES/lib/python3.8/site-packages/httpstan/include/stan/math/prim/prob/bernoulli_logit_glm_log.hpp:5,\n",
      "                 from /home/rodolpho/Projects/bayesian/BAYES/lib/python3.8/site-packages/httpstan/include/stan/math/prim/prob.hpp:10,\n",
      "                 from /home/rodolpho/Projects/bayesian/BAYES/lib/python3.8/site-packages/httpstan/include/stan/math/prim.hpp:16,\n",
      "                 from /home/rodolpho/Projects/bayesian/BAYES/lib/python3.8/site-packages/httpstan/include/stan/math/rev.hpp:13,\n",
      "                 from /home/rodolpho/Projects/bayesian/BAYES/lib/python3.8/site-packages/httpstan/include/stan/math.hpp:19,\n",
      "                 from /home/rodolpho/Projects/bayesian/BAYES/lib/python3.8/site-packages/httpstan/include/stan/model/model_header.hpp:4,\n",
      "                 from /home/rodolpho/.cache/httpstan/4.5.0/models/k57d4by5/model_k57d4by5.cpp:2:\n",
      "/home/rodolpho/Projects/bayesian/BAYES/lib/python3.8/site-packages/httpstan/include/stan/math/prim/prob/bernoulli_logit_glm_lpmf.hpp: In function ‘stan::return_type_t<T_x, T_alpha, T_beta> stan::math::bernoulli_logit_glm_lpmf(const T_y&, const T_x&, const T_alpha&, const T_beta&)’:\n",
      "/home/rodolpho/Projects/bayesian/BAYES/lib/python3.8/site-packages/httpstan/include/stan/math/prim/prob/bernoulli_logit_glm_lpmf.hpp:59:9: warning: typedef ‘using T_y_val = std::conditional_t<stan::is_vector<T2>::value, Eigen::Matrix<typename stan::partials_return_type<T_y>::type, -1, 1>, typename stan::partials_return_type<T_y>::type>’ locally defined but not used [-Wunused-local-typedefs]\n",
      "   59 |   using T_y_val =\n",
      "      |         ^~~~~~~\n",
      "In file included from /home/rodolpho/Projects/bayesian/BAYES/lib/python3.8/site-packages/httpstan/include/stan/math/prim/prob/beta_log.hpp:5,\n",
      "                 from /home/rodolpho/Projects/bayesian/BAYES/lib/python3.8/site-packages/httpstan/include/stan/math/prim/prob.hpp:31,\n",
      "                 from /home/rodolpho/Projects/bayesian/BAYES/lib/python3.8/site-packages/httpstan/include/stan/math/prim.hpp:16,\n",
      "                 from /home/rodolpho/Projects/bayesian/BAYES/lib/python3.8/site-packages/httpstan/include/stan/math/rev.hpp:13,\n",
      "                 from /home/rodolpho/Projects/bayesian/BAYES/lib/python3.8/site-packages/httpstan/include/stan/math.hpp:19,\n",
      "                 from /home/rodolpho/Projects/bayesian/BAYES/lib/python3.8/site-packages/httpstan/include/stan/model/model_header.hpp:4,\n",
      "                 from /home/rodolpho/.cache/httpstan/4.5.0/models/k57d4by5/model_k57d4by5.cpp:2:\n",
      "/home/rodolpho/Projects/bayesian/BAYES/lib/python3.8/site-packages/httpstan/include/stan/math/prim/prob/beta_lpdf.hpp: In function ‘stan::return_type_t<T_a, T_b, T_theta> stan::math::beta_lpdf(const T_y&, const T_scale_succ&, const T_scale_fail&)’:\n",
      "/home/rodolpho/Projects/bayesian/BAYES/lib/python3.8/site-packages/httpstan/include/stan/math/prim/prob/beta_lpdf.hpp:50:9: warning: typedef ‘using T_partials_matrix = class Eigen::Matrix<typename stan::partials_return_type<T_y, T_scale_succ, T_scale_fail>::type, -1, 1>’ locally defined but not used [-Wunused-local-typedefs]\n",
      "   50 |   using T_partials_matrix = Eigen::Matrix<T_partials_return, Eigen::Dynamic, 1>;\n",
      "      |         ^~~~~~~~~~~~~~~~~\n",
      "In file included from /home/rodolpho/Projects/bayesian/BAYES/lib/python3.8/site-packages/httpstan/include/stan/math/prim/prob/beta_proportion_log.hpp:5,\n",
      "                 from /home/rodolpho/Projects/bayesian/BAYES/lib/python3.8/site-packages/httpstan/include/stan/math/prim/prob.hpp:37,\n",
      "                 from /home/rodolpho/Projects/bayesian/BAYES/lib/python3.8/site-packages/httpstan/include/stan/math/prim.hpp:16,\n",
      "                 from /home/rodolpho/Projects/bayesian/BAYES/lib/python3.8/site-packages/httpstan/include/stan/math/rev.hpp:13,\n",
      "                 from /home/rodolpho/Projects/bayesian/BAYES/lib/python3.8/site-packages/httpstan/include/stan/math.hpp:19,\n",
      "                 from /home/rodolpho/Projects/bayesian/BAYES/lib/python3.8/site-packages/httpstan/include/stan/model/model_header.hpp:4,\n",
      "                 from /home/rodolpho/.cache/httpstan/4.5.0/models/k57d4by5/model_k57d4by5.cpp:2:\n",
      "/home/rodolpho/Projects/bayesian/BAYES/lib/python3.8/site-packages/httpstan/include/stan/math/prim/prob/beta_proportion_lpdf.hpp: In function ‘stan::return_type_t<T_a, T_b, T_theta> stan::math::beta_proportion_lpdf(const T_y&, const T_loc&, const T_prec&)’:\n",
      "/home/rodolpho/Projects/bayesian/BAYES/lib/python3.8/site-packages/httpstan/include/stan/math/prim/prob/beta_proportion_lpdf.hpp:55:9: warning: typedef ‘using T_partials_return_kappa = stan::return_type_t<T_prec>’ locally defined but not used [-Wunused-local-typedefs]\n",
      "   55 |   using T_partials_return_kappa = return_type_t<T_prec>;\n",
      "      |         ^~~~~~~~~~~~~~~~~~~~~~~\n",
      "/home/rodolpho/Projects/bayesian/BAYES/lib/python3.8/site-packages/httpstan/include/stan/math/prim/prob/beta_proportion_lpdf.hpp:56:9: warning: typedef ‘using T_partials_array = class Eigen::Array<typename stan::partials_return_type<T_y, T_scale_succ, T_scale_fail>::type, -1, 1>’ locally defined but not used [-Wunused-local-typedefs]\n",
      "   56 |   using T_partials_array = Eigen::Array<T_partials_return, Eigen::Dynamic, 1>;\n",
      "      |         ^~~~~~~~~~~~~~~~\n",
      "In file included from /home/rodolpho/Projects/bayesian/BAYES/lib/python3.8/site-packages/httpstan/include/stan/math/prim/prob/cauchy_log.hpp:5,\n",
      "                 from /home/rodolpho/Projects/bayesian/BAYES/lib/python3.8/site-packages/httpstan/include/stan/math/prim/prob.hpp:63,\n",
      "                 from /home/rodolpho/Projects/bayesian/BAYES/lib/python3.8/site-packages/httpstan/include/stan/math/prim.hpp:16,\n",
      "                 from /home/rodolpho/Projects/bayesian/BAYES/lib/python3.8/site-packages/httpstan/include/stan/math/rev.hpp:13,\n",
      "                 from /home/rodolpho/Projects/bayesian/BAYES/lib/python3.8/site-packages/httpstan/include/stan/math.hpp:19,\n",
      "                 from /home/rodolpho/Projects/bayesian/BAYES/lib/python3.8/site-packages/httpstan/include/stan/model/model_header.hpp:4,\n",
      "                 from /home/rodolpho/.cache/httpstan/4.5.0/models/k57d4by5/model_k57d4by5.cpp:2:\n",
      "/home/rodolpho/Projects/bayesian/BAYES/lib/python3.8/site-packages/httpstan/include/stan/math/prim/prob/cauchy_lpdf.hpp: In function ‘stan::return_type_t<T_a, T_b, T_theta> stan::math::cauchy_lpdf(const T_y&, const T_loc&, const T_scale&)’:\n",
      "/home/rodolpho/Projects/bayesian/BAYES/lib/python3.8/site-packages/httpstan/include/stan/math/prim/prob/cauchy_lpdf.hpp:46:9: warning: typedef ‘using T_partials_array = class Eigen::Array<typename stan::partials_return_type<T_y, T_scale_succ, T_scale_fail>::type, -1, 1>’ locally defined but not used [-Wunused-local-typedefs]\n",
      "   46 |   using T_partials_array = Eigen::Array<T_partials_return, Eigen::Dynamic, 1>;\n",
      "      |         ^~~~~~~~~~~~~~~~\n",
      "In file included from /home/rodolpho/Projects/bayesian/BAYES/lib/python3.8/site-packages/httpstan/include/stan/math/prim/prob/dirichlet_log.hpp:5,\n",
      "                 from /home/rodolpho/Projects/bayesian/BAYES/lib/python3.8/site-packages/httpstan/include/stan/math/prim/prob.hpp:74,\n",
      "                 from /home/rodolpho/Projects/bayesian/BAYES/lib/python3.8/site-packages/httpstan/include/stan/math/prim.hpp:16,\n",
      "                 from /home/rodolpho/Projects/bayesian/BAYES/lib/python3.8/site-packages/httpstan/include/stan/math/rev.hpp:13,\n",
      "                 from /home/rodolpho/Projects/bayesian/BAYES/lib/python3.8/site-packages/httpstan/include/stan/math.hpp:19,\n",
      "                 from /home/rodolpho/Projects/bayesian/BAYES/lib/python3.8/site-packages/httpstan/include/stan/model/model_header.hpp:4,\n",
      "                 from /home/rodolpho/.cache/httpstan/4.5.0/models/k57d4by5/model_k57d4by5.cpp:2:\n",
      "/home/rodolpho/Projects/bayesian/BAYES/lib/python3.8/site-packages/httpstan/include/stan/math/prim/prob/dirichlet_lpdf.hpp: In function ‘stan::return_type_t<T1, T2> stan::math::dirichlet_lpdf(const T_prob&, const T_prior_size&)’:\n",
      "/home/rodolpho/Projects/bayesian/BAYES/lib/python3.8/site-packages/httpstan/include/stan/math/prim/prob/dirichlet_lpdf.hpp:62:9: warning: typedef ‘using T_partials_vec = struct Eigen::Matrix<typename stan::partials_return_type<T_n, T_prob>::type, -1, 1>’ locally defined but not used [-Wunused-local-typedefs]\n",
      "   62 |   using T_partials_vec = typename Eigen::Matrix<T_partials_return, -1, 1>;\n",
      "      |         ^~~~~~~~~~~~~~\n",
      "In file included from /home/rodolpho/Projects/bayesian/BAYES/lib/python3.8/site-packages/httpstan/include/stan/math/prim/prob/double_exponential_log.hpp:5,\n",
      "                 from /home/rodolpho/Projects/bayesian/BAYES/lib/python3.8/site-packages/httpstan/include/stan/math/prim/prob.hpp:91,\n",
      "                 from /home/rodolpho/Projects/bayesian/BAYES/lib/python3.8/site-packages/httpstan/include/stan/math/prim.hpp:16,\n",
      "                 from /home/rodolpho/Projects/bayesian/BAYES/lib/python3.8/site-packages/httpstan/include/stan/math/rev.hpp:13,\n",
      "                 from /home/rodolpho/Projects/bayesian/BAYES/lib/python3.8/site-packages/httpstan/include/stan/math.hpp:19,\n",
      "                 from /home/rodolpho/Projects/bayesian/BAYES/lib/python3.8/site-packages/httpstan/include/stan/model/model_header.hpp:4,\n",
      "                 from /home/rodolpho/.cache/httpstan/4.5.0/models/k57d4by5/model_k57d4by5.cpp:2:\n",
      "/home/rodolpho/Projects/bayesian/BAYES/lib/python3.8/site-packages/httpstan/include/stan/math/prim/prob/double_exponential_lpdf.hpp: In function ‘stan::return_type_t<T_a, T_b, T_theta> stan::math::double_exponential_lpdf(const T_y&, const T_loc&, const T_scale&)’:\n",
      "/home/rodolpho/Projects/bayesian/BAYES/lib/python3.8/site-packages/httpstan/include/stan/math/prim/prob/double_exponential_lpdf.hpp:45:9: warning: typedef ‘using T_partials_array = class Eigen::Array<typename stan::partials_return_type<T_y, T_scale_succ, T_scale_fail>::type, -1, 1>’ locally defined but not used [-Wunused-local-typedefs]\n",
      "   45 |   using T_partials_array = Eigen::Array<T_partials_return, Eigen::Dynamic, 1>;\n",
      "      |         ^~~~~~~~~~~~~~~~\n",
      "In file included from /home/rodolpho/Projects/bayesian/BAYES/lib/python3.8/site-packages/httpstan/include/stan/math/prim/prob.hpp:111,\n",
      "                 from /home/rodolpho/Projects/bayesian/BAYES/lib/python3.8/site-packages/httpstan/include/stan/math/prim.hpp:16,\n",
      "                 from /home/rodolpho/Projects/bayesian/BAYES/lib/python3.8/site-packages/httpstan/include/stan/math/rev.hpp:13,\n",
      "                 from /home/rodolpho/Projects/bayesian/BAYES/lib/python3.8/site-packages/httpstan/include/stan/math.hpp:19,\n",
      "                 from /home/rodolpho/Projects/bayesian/BAYES/lib/python3.8/site-packages/httpstan/include/stan/model/model_header.hpp:4,\n",
      "                 from /home/rodolpho/.cache/httpstan/4.5.0/models/k57d4by5/model_k57d4by5.cpp:2:\n",
      "/home/rodolpho/Projects/bayesian/BAYES/lib/python3.8/site-packages/httpstan/include/stan/math/prim/prob/frechet_cdf.hpp: In function ‘stan::return_type_t<T_x, T_sigma, T_l> stan::math::frechet_cdf(const T_y&, const T_shape&, const T_scale&)’:\n",
      "/home/rodolpho/Projects/bayesian/BAYES/lib/python3.8/site-packages/httpstan/include/stan/math/prim/prob/frechet_cdf.hpp:32:9: warning: typedef ‘using T_partials_array = class Eigen::Array<typename stan::partials_return_type<T_y, T_scale_succ, T_scale_fail>::type, -1, 1>’ locally defined but not used [-Wunused-local-typedefs]\n",
      "   32 |   using T_partials_array = Eigen::Array<T_partials_return, Eigen::Dynamic, 1>;\n",
      "      |         ^~~~~~~~~~~~~~~~\n"
     ]
    },
    {
     "name": "stdout",
     "output_type": "stream",
     "text": [
      "\u001b[1A\u001b[0J\u001b[36mBuilding:\u001b[0m 11.1s\n",
      "\u001b[1A\u001b[0J\u001b[36mBuilding:\u001b[0m 11.2s\n",
      "\u001b[1A\u001b[0J\u001b[36mBuilding:\u001b[0m 11.3s\n",
      "\u001b[1A\u001b[0J\u001b[36mBuilding:\u001b[0m 11.4s\n",
      "\u001b[1A\u001b[0J\u001b[36mBuilding:\u001b[0m 11.5s\n",
      "\u001b[1A\u001b[0J\u001b[36mBuilding:\u001b[0m 11.6s\n",
      "\u001b[1A\u001b[0J\u001b[36mBuilding:\u001b[0m 11.7s\n",
      "\u001b[1A\u001b[0J\u001b[36mBuilding:\u001b[0m 11.8s\n"
     ]
    },
    {
     "name": "stderr",
     "output_type": "stream",
     "text": [
      "In file included from /home/rodolpho/Projects/bayesian/BAYES/lib/python3.8/site-packages/httpstan/include/stan/math/prim/prob/multi_normal_cholesky_log.hpp:6,\n",
      "                 from /home/rodolpho/Projects/bayesian/BAYES/lib/python3.8/site-packages/httpstan/include/stan/math/prim/prob.hpp:196,\n",
      "                 from /home/rodolpho/Projects/bayesian/BAYES/lib/python3.8/site-packages/httpstan/include/stan/math/prim.hpp:16,\n",
      "                 from /home/rodolpho/Projects/bayesian/BAYES/lib/python3.8/site-packages/httpstan/include/stan/math/rev.hpp:13,\n",
      "                 from /home/rodolpho/Projects/bayesian/BAYES/lib/python3.8/site-packages/httpstan/include/stan/math.hpp:19,\n",
      "                 from /home/rodolpho/Projects/bayesian/BAYES/lib/python3.8/site-packages/httpstan/include/stan/model/model_header.hpp:4,\n",
      "                 from /home/rodolpho/.cache/httpstan/4.5.0/models/k57d4by5/model_k57d4by5.cpp:2:\n",
      "/home/rodolpho/Projects/bayesian/BAYES/lib/python3.8/site-packages/httpstan/include/stan/math/prim/prob/multi_normal_cholesky_lpdf.hpp: In function ‘stan::return_type_t<T_a, T_b, T_theta> stan::math::multi_normal_cholesky_lpdf(const T_y&, const T_loc&, const T_covar&)’:\n",
      "/home/rodolpho/Projects/bayesian/BAYES/lib/python3.8/site-packages/httpstan/include/stan/math/prim/prob/multi_normal_cholesky_lpdf.hpp:56:9: warning: typedef ‘using vector_partials_t = class Eigen::Matrix<typename stan::partials_return_type<T_y, T_scale_succ, T_scale_fail>::type, -1, 1>’ locally defined but not used [-Wunused-local-typedefs]\n",
      "   56 |   using vector_partials_t = Eigen::Matrix<T_partials_return, Eigen::Dynamic, 1>;\n",
      "      |         ^~~~~~~~~~~~~~~~~\n",
      "/home/rodolpho/Projects/bayesian/BAYES/lib/python3.8/site-packages/httpstan/include/stan/math/prim/prob/multi_normal_cholesky_lpdf.hpp:57:9: warning: typedef ‘using row_vector_partials_t = class Eigen::Matrix<typename stan::partials_return_type<T_y, T_scale_succ, T_scale_fail>::type, 1, -1>’ locally defined but not used [-Wunused-local-typedefs]\n",
      "   57 |   using row_vector_partials_t\n",
      "      |         ^~~~~~~~~~~~~~~~~~~~~\n"
     ]
    },
    {
     "name": "stdout",
     "output_type": "stream",
     "text": [
      "\u001b[1A\u001b[0J\u001b[36mBuilding:\u001b[0m 11.9s\n",
      "\u001b[1A\u001b[0J\u001b[36mBuilding:\u001b[0m 12.0s\n",
      "\u001b[1A\u001b[0J\u001b[36mBuilding:\u001b[0m 12.1s\n",
      "\u001b[1A\u001b[0J\u001b[36mBuilding:\u001b[0m 12.2s\n",
      "\u001b[1A\u001b[0J\u001b[36mBuilding:\u001b[0m 12.3s\n",
      "\u001b[1A\u001b[0J\u001b[36mBuilding:\u001b[0m 12.4s\n",
      "\u001b[1A\u001b[0J\u001b[36mBuilding:\u001b[0m 12.5s\n",
      "\u001b[1A\u001b[0J\u001b[36mBuilding:\u001b[0m 12.6s\n"
     ]
    },
    {
     "name": "stderr",
     "output_type": "stream",
     "text": [
      "In file included from /home/rodolpho/Projects/bayesian/BAYES/lib/python3.8/site-packages/httpstan/include/stan/math/prim/prob/ordered_logistic_log.hpp:5,\n",
      "                 from /home/rodolpho/Projects/bayesian/BAYES/lib/python3.8/site-packages/httpstan/include/stan/math/prim/prob.hpp:248,\n",
      "                 from /home/rodolpho/Projects/bayesian/BAYES/lib/python3.8/site-packages/httpstan/include/stan/math/prim.hpp:16,\n",
      "                 from /home/rodolpho/Projects/bayesian/BAYES/lib/python3.8/site-packages/httpstan/include/stan/math/rev.hpp:13,\n",
      "                 from /home/rodolpho/Projects/bayesian/BAYES/lib/python3.8/site-packages/httpstan/include/stan/math.hpp:19,\n",
      "                 from /home/rodolpho/Projects/bayesian/BAYES/lib/python3.8/site-packages/httpstan/include/stan/model/model_header.hpp:4,\n",
      "                 from /home/rodolpho/.cache/httpstan/4.5.0/models/k57d4by5/model_k57d4by5.cpp:2:\n",
      "/home/rodolpho/Projects/bayesian/BAYES/lib/python3.8/site-packages/httpstan/include/stan/math/prim/prob/ordered_logistic_lpmf.hpp: In function ‘stan::return_type_t<T_shared_param, T_job_param> stan::math::ordered_logistic_lpmf(const T_y&, const T_loc&, const T_cut&)’:\n",
      "/home/rodolpho/Projects/bayesian/BAYES/lib/python3.8/site-packages/httpstan/include/stan/math/prim/prob/ordered_logistic_lpmf.hpp:79:9: warning: typedef ‘using T_partials_array = class Eigen::Array<typename stan::partials_return_type<T_loc, T_cut>::type, -1, 1>’ locally defined but not used [-Wunused-local-typedefs]\n",
      "   79 |   using T_partials_array = Eigen::Array<T_partials_return, -1, 1>;\n",
      "      |         ^~~~~~~~~~~~~~~~\n",
      "In file included from /home/rodolpho/Projects/bayesian/BAYES/lib/python3.8/site-packages/httpstan/include/stan/math/prim/prob/poisson_log_glm_log.hpp:5,\n",
      "                 from /home/rodolpho/Projects/bayesian/BAYES/lib/python3.8/site-packages/httpstan/include/stan/math/prim/prob.hpp:284,\n",
      "                 from /home/rodolpho/Projects/bayesian/BAYES/lib/python3.8/site-packages/httpstan/include/stan/math/prim.hpp:16,\n",
      "                 from /home/rodolpho/Projects/bayesian/BAYES/lib/python3.8/site-packages/httpstan/include/stan/math/rev.hpp:13,\n",
      "                 from /home/rodolpho/Projects/bayesian/BAYES/lib/python3.8/site-packages/httpstan/include/stan/math.hpp:19,\n",
      "                 from /home/rodolpho/Projects/bayesian/BAYES/lib/python3.8/site-packages/httpstan/include/stan/model/model_header.hpp:4,\n",
      "                 from /home/rodolpho/.cache/httpstan/4.5.0/models/k57d4by5/model_k57d4by5.cpp:2:\n",
      "/home/rodolpho/Projects/bayesian/BAYES/lib/python3.8/site-packages/httpstan/include/stan/math/prim/prob/poisson_log_glm_lpmf.hpp: In function ‘stan::return_type_t<T_x, T_alpha, T_beta> stan::math::poisson_log_glm_lpmf(const T_y&, const T_x&, const T_alpha&, const T_beta&)’:\n",
      "/home/rodolpho/Projects/bayesian/BAYES/lib/python3.8/site-packages/httpstan/include/stan/math/prim/prob/poisson_log_glm_lpmf.hpp:62:9: warning: typedef ‘using T_alpha_val = std::conditional_t<stan::is_vector<T_prob>::value, Eigen::Array<typename stan::partials_return_type<T_cut>::type, -1, 1>, typename stan::partials_return_type<T_cut>::type>’ locally defined but not used [-Wunused-local-typedefs]\n",
      "   62 |   using T_alpha_val = typename std::conditional_t<\n",
      "      |         ^~~~~~~~~~~\n",
      "In file included from /home/rodolpho/Projects/bayesian/BAYES/lib/python3.8/site-packages/httpstan/include/stan/math/prim/prob.hpp:310,\n",
      "                 from /home/rodolpho/Projects/bayesian/BAYES/lib/python3.8/site-packages/httpstan/include/stan/math/prim.hpp:16,\n",
      "                 from /home/rodolpho/Projects/bayesian/BAYES/lib/python3.8/site-packages/httpstan/include/stan/math/rev.hpp:13,\n",
      "                 from /home/rodolpho/Projects/bayesian/BAYES/lib/python3.8/site-packages/httpstan/include/stan/math.hpp:19,\n",
      "                 from /home/rodolpho/Projects/bayesian/BAYES/lib/python3.8/site-packages/httpstan/include/stan/model/model_header.hpp:4,\n",
      "                 from /home/rodolpho/.cache/httpstan/4.5.0/models/k57d4by5/model_k57d4by5.cpp:2:\n",
      "/home/rodolpho/Projects/bayesian/BAYES/lib/python3.8/site-packages/httpstan/include/stan/math/prim/prob/skew_double_exponential_lpdf.hpp: In function ‘stan::return_type_t<T_y0, T_param, T_t0, T_ts> stan::math::skew_double_exponential_lpdf(const T_y&, const T_loc&, const T_scale&, const T_skewness&)’:\n",
      "/home/rodolpho/Projects/bayesian/BAYES/lib/python3.8/site-packages/httpstan/include/stan/math/prim/prob/skew_double_exponential_lpdf.hpp:47:9: warning: typedef ‘using T_partials_array = class Eigen::Array<typename stan::partials_return_type<T_y, T_x, T_alpha, T_beta>::type, -1, 1>’ locally defined but not used [-Wunused-local-typedefs]\n",
      "   47 |   using T_partials_array = Eigen::Array<T_partials_return, Eigen::Dynamic, 1>;\n",
      "      |         ^~~~~~~~~~~~~~~~\n"
     ]
    },
    {
     "name": "stdout",
     "output_type": "stream",
     "text": [
      "\u001b[1A\u001b[0J\u001b[36mBuilding:\u001b[0m 12.7s\n",
      "\u001b[1A\u001b[0J\u001b[36mBuilding:\u001b[0m 12.8s\n",
      "\u001b[1A\u001b[0J\u001b[36mBuilding:\u001b[0m 12.9s\n"
     ]
    },
    {
     "name": "stderr",
     "output_type": "stream",
     "text": [
      "In file included from /home/rodolpho/Projects/bayesian/BAYES/lib/python3.8/site-packages/httpstan/include/stan/model/indexing.hpp:7,\n",
      "                 from /home/rodolpho/Projects/bayesian/BAYES/lib/python3.8/site-packages/httpstan/include/stan/model/model_header.hpp:17,\n",
      "                 from /home/rodolpho/.cache/httpstan/4.5.0/models/k57d4by5/model_k57d4by5.cpp:2:\n",
      "/home/rodolpho/Projects/bayesian/BAYES/lib/python3.8/site-packages/httpstan/include/stan/model/indexing/assign_varmat.hpp: In function ‘void stan::model::assign(Mat1&&, const Mat2&, const char*, const stan::model::index_multi&, const stan::model::index_multi&)’:\n",
      "/home/rodolpho/Projects/bayesian/BAYES/lib/python3.8/site-packages/httpstan/include/stan/model/indexing/assign_varmat.hpp:329:9: warning: typedef ‘using pair_type = struct std::pair<int, std::vector<int, stan::math::arena_allocator<int> > >’ locally defined but not used [-Wunused-local-typedefs]\n",
      "  329 |   using pair_type = std::pair<int, arena_vec>;\n",
      "      |         ^~~~~~~~~\n",
      "/home/rodolpho/.cache/httpstan/4.5.0/models/k57d4by5/model_k57d4by5.cpp: In constructor ‘model_k57d4by5_namespace::model_k57d4by5::model_k57d4by5(stan::io::var_context&, unsigned int, std::ostream*)’:\n",
      "/home/rodolpho/.cache/httpstan/4.5.0/models/k57d4by5/model_k57d4by5.cpp:72:11: warning: variable ‘pos__’ set but not used [-Wunused-but-set-variable]\n",
      "   72 |       int pos__;\n",
      "      |           ^~~~~\n",
      "/home/rodolpho/.cache/httpstan/4.5.0/models/k57d4by5/model_k57d4by5.cpp: In member function ‘void model_k57d4by5_namespace::model_k57d4by5::transform_inits_impl(const stan::io::var_context&, VecI&, VecVar&, std::ostream*) const’:\n",
      "/home/rodolpho/.cache/httpstan/4.5.0/models/k57d4by5/model_k57d4by5.cpp:251:11: warning: typedef ‘using local_scalar_t__ = double’ locally defined but not used [-Wunused-local-typedefs]\n",
      "  251 |     using local_scalar_t__ = double;\n",
      "      |           ^~~~~~~~~~~~~~~~\n"
     ]
    },
    {
     "name": "stdout",
     "output_type": "stream",
     "text": [
      "\u001b[1A\u001b[0J\u001b[36mBuilding:\u001b[0m 13.0s\n",
      "\u001b[1A\u001b[0J\u001b[36mBuilding:\u001b[0m 13.1s\n",
      "\u001b[1A\u001b[0J\u001b[36mBuilding:\u001b[0m 13.2s\n",
      "\u001b[1A\u001b[0J\u001b[36mBuilding:\u001b[0m 13.3s\n",
      "\u001b[1A\u001b[0J\u001b[36mBuilding:\u001b[0m 13.4s\n",
      "\u001b[1A\u001b[0J\u001b[36mBuilding:\u001b[0m 13.5s\n",
      "\u001b[1A\u001b[0J\u001b[36mBuilding:\u001b[0m 13.6s\n"
     ]
    },
    {
     "name": "stderr",
     "output_type": "stream",
     "text": [
      "/home/rodolpho/.cache/httpstan/4.5.0/models/k57d4by5/model_k57d4by5.cpp: In instantiation of ‘void model_k57d4by5_namespace::model_k57d4by5::transform_inits_impl(const stan::io::var_context&, VecI&, VecVar&, std::ostream*) const [with VecVar = std::vector<double, std::allocator<double> >; VecI = std::vector<int>; stan::require_std_vector_t<T>* <anonymous> = 0; stan::require_vector_like_vt<std::is_integral, VecI>* <anonymous> = 0; std::ostream = std::basic_ostream<char>]’:\n",
      "/home/rodolpho/.cache/httpstan/4.5.0/models/k57d4by5/model_k57d4by5.cpp:410:68:   required from here\n",
      "/home/rodolpho/.cache/httpstan/4.5.0/models/k57d4by5/model_k57d4by5.cpp:257:11: warning: variable ‘pos__’ set but not used [-Wunused-but-set-variable]\n",
      "  257 |       int pos__;\n",
      "      |           ^~~~~\n"
     ]
    },
    {
     "name": "stdout",
     "output_type": "stream",
     "text": [
      "\u001b[1A\u001b[0J\u001b[36mBuilding:\u001b[0m 13.7s\n",
      "\u001b[1A\u001b[0J\u001b[36mBuilding:\u001b[0m 13.8s\n",
      "\u001b[1A\u001b[0J\u001b[36mBuilding:\u001b[0m 13.9s\n",
      "\u001b[1A\u001b[0J\u001b[36mBuilding:\u001b[0m 14.0s\n",
      "\u001b[1A\u001b[0J\u001b[36mBuilding:\u001b[0m 14.2s\n",
      "\u001b[1A\u001b[0J\u001b[36mBuilding:\u001b[0m 14.3s\n",
      "\u001b[1A\u001b[0J\u001b[36mBuilding:\u001b[0m 14.4s\n",
      "\u001b[1A\u001b[0J\u001b[36mBuilding:\u001b[0m 14.5s\n",
      "\u001b[1A\u001b[0J\u001b[36mBuilding:\u001b[0m 14.6s\n",
      "\u001b[1A\u001b[0J\u001b[36mBuilding:\u001b[0m 14.7s\n",
      "\u001b[1A\u001b[0J\u001b[36mBuilding:\u001b[0m 14.8s\n",
      "\u001b[1A\u001b[0J\u001b[36mBuilding:\u001b[0m 14.9s\n",
      "\u001b[1A\u001b[0J\u001b[36mBuilding:\u001b[0m 15.0s\n",
      "\u001b[1A\u001b[0J\u001b[36mBuilding:\u001b[0m 15.1s\n",
      "\u001b[1A\u001b[0J\u001b[36mBuilding:\u001b[0m 15.2s\n",
      "\u001b[1A\u001b[0J\u001b[36mBuilding:\u001b[0m 15.3s\n",
      "\u001b[1A\u001b[0J\u001b[36mBuilding:\u001b[0m 15.4s\n",
      "\u001b[1A\u001b[0J\u001b[36mBuilding:\u001b[0m 15.5s\n",
      "\u001b[1A\u001b[0J\u001b[36mBuilding:\u001b[0m 15.6s\n",
      "\u001b[1A\u001b[0J\u001b[36mBuilding:\u001b[0m 15.7s\n",
      "\u001b[1A\u001b[0J\u001b[36mBuilding:\u001b[0m 15.8s\n",
      "\u001b[1A\u001b[0J\u001b[36mBuilding:\u001b[0m 15.9s\n",
      "\u001b[1A\u001b[0J\u001b[36mBuilding:\u001b[0m 16.0s\n",
      "\u001b[1A\u001b[0J\u001b[36mBuilding:\u001b[0m 16.1s\n",
      "\u001b[1A\u001b[0J\u001b[36mBuilding:\u001b[0m 16.2s\n",
      "\u001b[1A\u001b[0J\u001b[36mBuilding:\u001b[0m 16.3s\n",
      "\u001b[1A\u001b[0J\u001b[36mBuilding:\u001b[0m 16.4s\n",
      "\u001b[1A\u001b[0J\u001b[36mBuilding:\u001b[0m 16.5s\n",
      "\u001b[1A\u001b[0J\u001b[36mBuilding:\u001b[0m 16.6s\n",
      "\u001b[1A\u001b[0J\u001b[36mBuilding:\u001b[0m 16.7s\n",
      "\u001b[1A\u001b[0J\u001b[36mBuilding:\u001b[0m 16.8s\n",
      "\u001b[1A\u001b[0J\u001b[36mBuilding:\u001b[0m 16.9s\n",
      "\u001b[1A\u001b[0J\u001b[36mBuilding:\u001b[0m 17.0s\n",
      "\u001b[1A\u001b[0J\u001b[36mBuilding:\u001b[0m 17.1s\n",
      "\u001b[1A\u001b[0J\u001b[36mBuilding:\u001b[0m 17.2s\n",
      "\u001b[1A\u001b[0J\u001b[36mBuilding:\u001b[0m 17.4s\n",
      "\u001b[1A\u001b[0J\u001b[36mBuilding:\u001b[0m 17.5s\n",
      "\u001b[1A\u001b[0J\u001b[36mBuilding:\u001b[0m 17.6s\n",
      "\u001b[1A\u001b[0J\u001b[36mBuilding:\u001b[0m 17.7s\n",
      "\u001b[1A\u001b[0J\u001b[36mBuilding:\u001b[0m 17.8s\n",
      "\u001b[1A\u001b[0J\u001b[36mBuilding:\u001b[0m 17.9s\n",
      "\u001b[1A\u001b[0J\u001b[36mBuilding:\u001b[0m 18.0s\n",
      "\u001b[1A\u001b[0J\u001b[36mBuilding:\u001b[0m 18.1s\n",
      "\u001b[1A\u001b[0J\u001b[36mBuilding:\u001b[0m 18.2s\n",
      "\u001b[1A\u001b[0J\u001b[36mBuilding:\u001b[0m 18.3s\n",
      "\u001b[1A\u001b[0J\u001b[36mBuilding:\u001b[0m 18.4s\n",
      "\u001b[1A\u001b[0J\u001b[36mBuilding:\u001b[0m 18.5s\n",
      "\u001b[1A\u001b[0J\u001b[36mBuilding:\u001b[0m 18.6s\n",
      "\u001b[1A\u001b[0J\u001b[36mBuilding:\u001b[0m 18.7s\n",
      "\u001b[1A\u001b[0J\u001b[36mBuilding:\u001b[0m 18.8s\n",
      "\u001b[1A\u001b[0J\u001b[36mBuilding:\u001b[0m 18.9s\n",
      "\u001b[1A\u001b[0J\u001b[36mBuilding:\u001b[0m 19.0s\n",
      "\u001b[1A\u001b[0J\u001b[36mBuilding:\u001b[0m 19.1s\n",
      "\u001b[1A\u001b[0J\u001b[36mBuilding:\u001b[0m 19.2s\n",
      "\u001b[1A\u001b[0J\u001b[36mBuilding:\u001b[0m 19.3s\n",
      "\u001b[1A\u001b[0J\u001b[36mBuilding:\u001b[0m 19.4s\n",
      "\u001b[1A\u001b[0J\u001b[36mBuilding:\u001b[0m 19.5s\n",
      "\u001b[1A\u001b[0J\u001b[36mBuilding:\u001b[0m 19.6s\n",
      "\u001b[1A\u001b[0J\u001b[36mBuilding:\u001b[0m 19.7s\n",
      "\u001b[1A\u001b[0J\u001b[36mBuilding:\u001b[0m 19.8s\n",
      "\u001b[1A\u001b[0J\u001b[36mBuilding:\u001b[0m 19.9s\n",
      "\u001b[1A\u001b[0J\u001b[36mBuilding:\u001b[0m 20.0s\n",
      "\u001b[1A\u001b[0J\u001b[36mBuilding:\u001b[0m 20.1s\n",
      "\u001b[1A\u001b[0J\u001b[36mBuilding:\u001b[0m 20.2s\n",
      "\u001b[1A\u001b[0J\u001b[36mBuilding:\u001b[0m 20.3s\n",
      "\u001b[1A\u001b[0J\u001b[36mBuilding:\u001b[0m 20.5s\n",
      "\u001b[1A\u001b[0J\u001b[36mBuilding:\u001b[0m 20.6s\n",
      "\u001b[1A\u001b[0J\u001b[36mBuilding:\u001b[0m 20.7s\n",
      "\u001b[1A\u001b[0J\u001b[36mBuilding:\u001b[0m 20.8s\n",
      "\u001b[1A\u001b[0J\u001b[36mBuilding:\u001b[0m 20.9s\n",
      "\u001b[1A\u001b[0J\u001b[36mBuilding:\u001b[0m 21.0s\n",
      "\u001b[1A\u001b[0J\u001b[36mBuilding:\u001b[0m 21.1s\n",
      "\u001b[1A\u001b[0J\u001b[36mBuilding:\u001b[0m 21.2s\n",
      "\u001b[1A\u001b[0J\u001b[36mBuilding:\u001b[0m 21.3s\n",
      "\u001b[1A\u001b[0J\u001b[36mBuilding:\u001b[0m 21.4s\n",
      "\u001b[1A\u001b[0J\u001b[36mBuilding:\u001b[0m 21.5s\n",
      "\u001b[1A\u001b[0J\u001b[36mBuilding:\u001b[0m 21.6s\n",
      "\u001b[1A\u001b[0J\u001b[36mBuilding:\u001b[0m 21.7s\n",
      "\u001b[1A\u001b[0J\u001b[36mBuilding:\u001b[0m 21.8s\n",
      "\u001b[1A\u001b[0J\u001b[36mBuilding:\u001b[0m 21.9s\n",
      "\u001b[1A\u001b[0J\u001b[36mBuilding:\u001b[0m 22.0s\n",
      "\u001b[1A\u001b[0J\u001b[36mBuilding:\u001b[0m 22.1s\n",
      "\u001b[1A\u001b[0J\u001b[36mBuilding:\u001b[0m 22.2s\n",
      "\u001b[1A\u001b[0J\u001b[36mBuilding:\u001b[0m 22.3s\n",
      "\u001b[1A\u001b[0J\u001b[36mBuilding:\u001b[0m 22.4s\n",
      "\u001b[1A\u001b[0J\u001b[36mBuilding:\u001b[0m 22.5s\n",
      "\u001b[1A\u001b[0J\u001b[36mBuilding:\u001b[0m 22.6s\n",
      "\u001b[1A\u001b[0J\u001b[36mBuilding:\u001b[0m 22.7s\n",
      "\u001b[1A\u001b[0J\u001b[36mBuilding:\u001b[0m 22.8s\n",
      "\u001b[1A\u001b[0J\u001b[36mBuilding:\u001b[0m 22.9s\n",
      "\u001b[1A\u001b[0J\u001b[36mBuilding:\u001b[0m 23.0s\n",
      "\u001b[1A\u001b[0J\u001b[36mBuilding:\u001b[0m 23.1s\n",
      "\u001b[1A\u001b[0J\u001b[36mBuilding:\u001b[0m 23.2s\n",
      "\u001b[1A\u001b[0J\u001b[36mBuilding:\u001b[0m 23.3s\n",
      "\u001b[1A\u001b[0J\u001b[36mBuilding:\u001b[0m 23.5s\n",
      "\u001b[1A\u001b[0J\u001b[36mBuilding:\u001b[0m 23.6s\n",
      "\u001b[1A\u001b[0J\u001b[36mBuilding:\u001b[0m 23.7s\n",
      "\u001b[1A\u001b[0J\u001b[36mBuilding:\u001b[0m 23.8s\n",
      "\u001b[1A\u001b[0J\u001b[36mBuilding:\u001b[0m 23.9s\n",
      "\u001b[1A\u001b[0J\u001b[36mBuilding:\u001b[0m 24.0s\n",
      "\u001b[1A\u001b[0J\u001b[36mBuilding:\u001b[0m 24.1s\n",
      "\u001b[1A\u001b[0J\u001b[36mBuilding:\u001b[0m 24.2s\n",
      "\u001b[1A\u001b[0J\u001b[36mBuilding:\u001b[0m 24.3s\n",
      "\u001b[1A\u001b[0J\u001b[36mBuilding:\u001b[0m 24.4s\n",
      "\u001b[1A\u001b[0J\u001b[36mBuilding:\u001b[0m 24.5s\n",
      "\u001b[1A\u001b[0J\u001b[36mBuilding:\u001b[0m 24.6s\n",
      "\u001b[1A\u001b[0J\u001b[36mBuilding:\u001b[0m 24.7s\n",
      "\u001b[1A\u001b[0J\u001b[36mBuilding:\u001b[0m 24.8s\n",
      "\u001b[1A\u001b[0J\u001b[36mBuilding:\u001b[0m 24.9s\n",
      "\u001b[1A\u001b[0J\u001b[36mBuilding:\u001b[0m 25.0s\n",
      "\u001b[1A\u001b[0J\u001b[36mBuilding:\u001b[0m 25.1s\n",
      "\u001b[1A\u001b[0J\u001b[36mBuilding:\u001b[0m 25.2s\n",
      "\u001b[1A\u001b[0J\u001b[36mBuilding:\u001b[0m 25.3s\n",
      "\u001b[1A\u001b[0J\u001b[36mBuilding:\u001b[0m 25.4s\n",
      "\u001b[1A\u001b[0J\u001b[36mBuilding:\u001b[0m 25.5s\n",
      "\u001b[1A\u001b[0J\u001b[36mBuilding:\u001b[0m 25.6s\n",
      "\u001b[1A\u001b[0J\u001b[36mBuilding:\u001b[0m 25.7s\n",
      "\u001b[1A\u001b[0J\u001b[36mBuilding:\u001b[0m 25.8s\n",
      "\u001b[1A\u001b[0J\u001b[36mBuilding:\u001b[0m 25.9s\n",
      "\u001b[1A\u001b[0J\u001b[36mBuilding:\u001b[0m 26.0s\n",
      "\u001b[1A\u001b[0J\u001b[36mBuilding:\u001b[0m 26.1s\n",
      "\u001b[1A\u001b[0J\u001b[36mBuilding:\u001b[0m 26.2s\n",
      "\u001b[1A\u001b[0J\u001b[36mBuilding:\u001b[0m 26.3s\n",
      "\u001b[1A\u001b[0J\u001b[36mBuilding:\u001b[0m 26.5s\n",
      "\u001b[1A\u001b[0J\u001b[36mBuilding:\u001b[0m 26.6s\n",
      "\u001b[1A\u001b[0J\u001b[36mBuilding:\u001b[0m 26.7s\n",
      "\u001b[1A\u001b[0J"
     ]
    },
    {
     "name": "stderr",
     "output_type": "stream",
     "text": [
      "\u001b[32mBuilding:\u001b[0m 26.7s, done.\n",
      "\u001b[36mSampling:\u001b[0m   0%\n",
      "\u001b[1A\u001b[0J\u001b[36mSampling:\u001b[0m  25% (2000/8000)\n",
      "\u001b[1A\u001b[0J\u001b[36mSampling:\u001b[0m  50% (4000/8000)\n",
      "\u001b[1A\u001b[0J\u001b[36mSampling:\u001b[0m  75% (6000/8000)\n",
      "\u001b[1A\u001b[0J\u001b[36mSampling:\u001b[0m 100% (8000/8000)\n",
      "\u001b[1A\u001b[0J\u001b[32mSampling:\u001b[0m 100% (8000/8000), done.\n",
      "\u001b[36mMessages received during sampling:\u001b[0m\n",
      "  Gradient evaluation took 2.3e-05 seconds\n",
      "  1000 transitions using 10 leapfrog steps per transition would take 0.23 seconds.\n",
      "  Adjust your expectations accordingly!\n",
      "  Gradient evaluation took 2.5e-05 seconds\n",
      "  1000 transitions using 10 leapfrog steps per transition would take 0.25 seconds.\n",
      "  Adjust your expectations accordingly!\n",
      "  Gradient evaluation took 4.8e-05 seconds\n",
      "  1000 transitions using 10 leapfrog steps per transition would take 0.48 seconds.\n",
      "  Adjust your expectations accordingly!\n",
      "  Gradient evaluation took 2.7e-05 seconds\n",
      "  1000 transitions using 10 leapfrog steps per transition would take 0.27 seconds.\n",
      "  Adjust your expectations accordingly!\n"
     ]
    }
   ],
   "source": [
    "model_test = \"\"\"\n",
    "    data {\n",
    "        int N;\n",
    "        real y[N];\n",
    "        int index_var[N];\n",
    "    }\n",
    "\n",
    "    parameters {\n",
    "        real alpha; \n",
    "        real beta;\n",
    "        real<lower=0> sigma;\n",
    "    }\n",
    "\n",
    "    model {\n",
    "        alpha ~ normal(4, 5);\n",
    "        beta ~ normal(0, 1);\n",
    "        sigma ~ exponential(1);\n",
    "        \n",
    "        for (i in 1:N) {\n",
    "            y[i] ~ normal(\n",
    "                alpha + beta * index_var[i],  // mu\n",
    "                sigma\n",
    "            );\n",
    "        }\n",
    "    }\n",
    "    \n",
    "    generated quantities {\n",
    "        real priori_mu = normal_rng(4, 5);\n",
    "        real priori_sigma = exponential_rng(1);\n",
    "        \n",
    "        real y_priori_sim = normal_rng(priori_mu, priori_sigma);\n",
    "    }\n",
    "\"\"\"\n",
    "\n",
    "data_test = {\n",
    "    'N': N,\n",
    "    'y': y,\n",
    "    'index_var': index_var\n",
    "}\n",
    "\n",
    "posteriori = stan.build(model_test, data=data_test)\n",
    "results = posteriori.sample(num_chains=4, num_samples=1000)\n",
    "\n",
    "# mu = results['mu'].flatten()\n",
    "alpha = results['alpha'].flatten()\n",
    "beta = results['beta'].flatten()\n",
    "sigma = results['sigma'].flatten()\n",
    "\n",
    "# y_priori_sim = results['y_priori_sim'].flatten()"
   ]
  },
  {
   "cell_type": "code",
   "execution_count": 105,
   "id": "cd8705fa",
   "metadata": {},
   "outputs": [
    {
     "data": {
      "image/png": "[encoded data removed]",
      "text/plain": [
       "<Figure size 432x288 with 1 Axes>"
      ]
     },
     "metadata": {},
     "output_type": "display_data"
    },
    {
     "data": {
      "image/png": "[encoded data removed]",
      "text/plain": [
       "<Figure size 432x288 with 1 Axes>"
      ]
     },
     "metadata": {},
     "output_type": "display_data"
    }
   ],
   "source": [
    "plt.hist(alpha, rwidth=0.9)\n",
    "plt.show()\n",
    "\n",
    "plt.hist(beta, rwidth=0.9)\n",
    "plt.show()"
   ]
  },
  {
   "cell_type": "code",
   "execution_count": 106,
   "id": "88d9aec4",
   "metadata": {
    "scrolled": false
   },
   "outputs": [
    {
     "data": {
      "image/png": "[encoded data removed]",
      "text/plain": [
       "<Figure size 432x288 with 1 Axes>"
      ]
     },
     "metadata": {},
     "output_type": "display_data"
    },
    {
     "data": {
      "image/png": "[encoded data removed]",
      "text/plain": [
       "<Figure size 432x288 with 1 Axes>"
      ]
     },
     "metadata": {},
     "output_type": "display_data"
    },
    {
     "data": {
      "image/png": "[encoded data removed]",
      "text/plain": [
       "<Figure size 432x288 with 1 Axes>"
      ]
     },
     "metadata": {},
     "output_type": "display_data"
    }
   ],
   "source": [
    "plt.hist(mu, density=True, rwidth=0.9)\n",
    "plt.show()\n",
    "\n",
    "plt.hist(priori_mu, density=True, rwidth=0.9)\n",
    "plt.show()\n",
    "\n",
    "plt.hist(y_priori_sim, density=True, rwidth=0.9)\n",
    "plt.show()"
   ]
  }
 ],
 "metadata": {
  "kernelspec": {
   "display_name": "Python 3 (ipykernel)",
   "language": "python",
   "name": "python3"
  },
  "language_info": {
   "codemirror_mode": {
    "name": "ipython",
    "version": 3
   },
   "file_extension": ".py",
   "mimetype": "text/x-python",
   "name": "python",
   "nbconvert_exporter": "python",
   "pygments_lexer": "ipython3",
   "version": "3.8.0"
  }
 },
 "nbformat": 4,
 "nbformat_minor": 5
}
